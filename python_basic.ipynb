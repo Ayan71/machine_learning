{
 "cells": [
  {
   "cell_type": "markdown",
   "id": "5def843f",
   "metadata": {},
   "source": [
    "## Machine Learning\n"
   ]
  },
  {
   "cell_type": "code",
   "execution_count": 1,
   "id": "54a718da",
   "metadata": {},
   "outputs": [
    {
     "name": "stdout",
     "output_type": "stream",
     "text": [
      "hello world\n",
      "0.5\n",
      "0\n",
      "0\n",
      "100000000000000000000\n"
     ]
    }
   ],
   "source": [
    "print('hello world')\n",
    "a = 10\n",
    "b=20\n",
    "print(a/b)\n",
    "print(int(a/b))\n",
    "print(a//b)\n",
    "print(a**b)\n"
   ]
  },
  {
   "cell_type": "code",
   "execution_count": 2,
   "id": "64279dad",
   "metadata": {},
   "outputs": [
    {
     "name": "stdout",
     "output_type": "stream",
     "text": [
      "ds\n"
     ]
    }
   ],
   "source": [
    "print('ds')"
   ]
  },
  {
   "cell_type": "code",
   "execution_count": 3,
   "id": "277fc034",
   "metadata": {},
   "outputs": [
    {
     "name": "stdout",
     "output_type": "stream",
     "text": [
      "True\n"
     ]
    }
   ],
   "source": [
    "\n",
    "print( (3 < 4) or (5 > 6)  )"
   ]
  },
  {
   "cell_type": "markdown",
   "id": "26bca0e0",
   "metadata": {},
   "source": [
    "#### Strings"
   ]
  },
  {
   "cell_type": "code",
   "execution_count": 4,
   "id": "68cc073a",
   "metadata": {},
   "outputs": [
    {
     "data": {
      "text/plain": [
       "' '"
      ]
     },
     "execution_count": 4,
     "metadata": {},
     "output_type": "execute_result"
    }
   ],
   "source": [
    "str = \"   welcome here  \"\n",
    "str[0]"
   ]
  },
  {
   "cell_type": "code",
   "execution_count": 5,
   "id": "4479ed87",
   "metadata": {},
   "outputs": [
    {
     "data": {
      "text/plain": [
       "' '"
      ]
     },
     "execution_count": 5,
     "metadata": {},
     "output_type": "execute_result"
    }
   ],
   "source": [
    "# stipe the left side space\n",
    "str = str.lstrip()\n",
    "str[0]\n",
    "str[-1]\n"
   ]
  },
  {
   "cell_type": "code",
   "execution_count": 6,
   "id": "2cd7ad0f",
   "metadata": {},
   "outputs": [
    {
     "data": {
      "text/plain": [
       "'e'"
      ]
     },
     "execution_count": 6,
     "metadata": {},
     "output_type": "execute_result"
    }
   ],
   "source": [
    "# stripe the right side space\n",
    "str = str.rstrip()\n",
    "str[-1]"
   ]
  },
  {
   "cell_type": "code",
   "execution_count": 7,
   "id": "c20e1adf",
   "metadata": {},
   "outputs": [
    {
     "name": "stdout",
     "output_type": "stream",
     "text": [
      "w\n",
      "e\n"
     ]
    }
   ],
   "source": [
    "# strip from both side\n",
    "str = str.strip()\n",
    "print(str[0])\n",
    "print(str[-1])"
   ]
  },
  {
   "cell_type": "code",
   "execution_count": 8,
   "id": "45dc2253",
   "metadata": {},
   "outputs": [
    {
     "data": {
      "text/plain": [
       "'oi'"
      ]
     },
     "execution_count": 8,
     "metadata": {},
     "output_type": "execute_result"
    }
   ],
   "source": [
    "str = 'tosif'\n",
    "str[1::2]"
   ]
  },
  {
   "cell_type": "code",
   "execution_count": 9,
   "id": "b5fb1fdd",
   "metadata": {},
   "outputs": [
    {
     "data": {
      "text/plain": [
       "'fisot'"
      ]
     },
     "execution_count": 9,
     "metadata": {},
     "output_type": "execute_result"
    }
   ],
   "source": [
    "str[::-1]\n"
   ]
  },
  {
   "cell_type": "code",
   "execution_count": 10,
   "id": "a57f4289",
   "metadata": {},
   "outputs": [
    {
     "data": {
      "text/plain": [
       "'fisot'"
      ]
     },
     "execution_count": 10,
     "metadata": {},
     "output_type": "execute_result"
    }
   ],
   "source": [
    "str[::-1]"
   ]
  },
  {
   "cell_type": "code",
   "execution_count": 11,
   "id": "069fea31",
   "metadata": {},
   "outputs": [
    {
     "name": "stdout",
     "output_type": "stream",
     "text": [
      "first name is tosif and last name is khan and mm\n",
      "first name is tosif last name is  khan\n"
     ]
    }
   ],
   "source": [
    "a = 'tosif'\n",
    "b = 'khan'\n",
    "c = 'mm'\n",
    "print('first name is {0} and last name is {1} and {2}'.format(a,b,c))\n",
    "\n",
    "print('first name is' , a ,'last name is ' , b)\n"
   ]
  },
  {
   "cell_type": "code",
   "execution_count": 12,
   "id": "ca49ce4d",
   "metadata": {},
   "outputs": [
    {
     "name": "stdout",
     "output_type": "stream",
     "text": [
      "himanshu baretha\n"
     ]
    }
   ],
   "source": [
    "a,b = 'himanshu','baretha'\n",
    "print(a,b)"
   ]
  },
  {
   "cell_type": "code",
   "execution_count": 13,
   "id": "c39053b2",
   "metadata": {},
   "outputs": [
    {
     "data": {
      "text/plain": [
       "'welcomeeeeeeee'"
      ]
     },
     "execution_count": 13,
     "metadata": {},
     "output_type": "execute_result"
    }
   ],
   "source": [
    "'eeeeewelcomeeeeeeee'.lstrip('e')"
   ]
  },
  {
   "cell_type": "code",
   "execution_count": 14,
   "id": "607970e4",
   "metadata": {},
   "outputs": [
    {
     "data": {
      "text/plain": [
       "'elcome'"
      ]
     },
     "execution_count": 14,
     "metadata": {},
     "output_type": "execute_result"
    }
   ],
   "source": [
    "\n",
    "'welcome'.lstrip('w')"
   ]
  },
  {
   "cell_type": "code",
   "execution_count": 15,
   "id": "d6dcfbda",
   "metadata": {},
   "outputs": [
    {
     "data": {
      "text/plain": [
       "'welcometosiftotosifdewas'"
      ]
     },
     "execution_count": 15,
     "metadata": {},
     "output_type": "execute_result"
    }
   ],
   "source": [
    "sent = 'welcome to dewas'\n",
    "sentList = sent.split()\n",
    "sentList\n",
    "'tosif'.join(sentList)"
   ]
  },
  {
   "cell_type": "markdown",
   "id": "6af40d69",
   "metadata": {},
   "source": [
    "### List"
   ]
  },
  {
   "cell_type": "code",
   "execution_count": 16,
   "id": "d4234d30",
   "metadata": {},
   "outputs": [
    {
     "data": {
      "text/plain": [
       "[1, 2, 3, 4, 'tosif', 2.0]"
      ]
     },
     "execution_count": 16,
     "metadata": {},
     "output_type": "execute_result"
    }
   ],
   "source": [
    "num = [1,2,3,4,'tosif',2.0]\n",
    "num"
   ]
  },
  {
   "cell_type": "code",
   "execution_count": 17,
   "id": "495d3e72",
   "metadata": {},
   "outputs": [
    {
     "data": {
      "text/plain": [
       "1"
      ]
     },
     "execution_count": 17,
     "metadata": {},
     "output_type": "execute_result"
    }
   ],
   "source": [
    "num[0]"
   ]
  },
  {
   "cell_type": "code",
   "execution_count": 18,
   "id": "438f3332",
   "metadata": {},
   "outputs": [
    {
     "data": {
      "text/plain": [
       "list"
      ]
     },
     "execution_count": 18,
     "metadata": {},
     "output_type": "execute_result"
    }
   ],
   "source": [
    "type(num)"
   ]
  },
  {
   "cell_type": "code",
   "execution_count": 19,
   "id": "790f8f6f",
   "metadata": {},
   "outputs": [
    {
     "name": "stdout",
     "output_type": "stream",
     "text": [
      "yes its is\n"
     ]
    }
   ],
   "source": [
    "if isinstance(num,list):\n",
    "    print(\"yes its is\")"
   ]
  },
  {
   "cell_type": "code",
   "execution_count": 20,
   "id": "88c65984",
   "metadata": {},
   "outputs": [
    {
     "data": {
      "text/plain": [
       "[1, 2, 3, 4, 5]"
      ]
     },
     "execution_count": 20,
     "metadata": {},
     "output_type": "execute_result"
    }
   ],
   "source": [
    "a = [1,2,3,4,5]\n",
    "a"
   ]
  },
  {
   "cell_type": "code",
   "execution_count": 21,
   "id": "9035efa9",
   "metadata": {},
   "outputs": [
    {
     "data": {
      "text/plain": [
       "[1, 10, 3, 4, 5]"
      ]
     },
     "execution_count": 21,
     "metadata": {},
     "output_type": "execute_result"
    }
   ],
   "source": [
    "a[1] = 10\n",
    "a"
   ]
  },
  {
   "cell_type": "code",
   "execution_count": 22,
   "id": "e51359ae",
   "metadata": {},
   "outputs": [
    {
     "data": {
      "text/plain": [
       "[1, 34, 65, 4, 5]"
      ]
     },
     "execution_count": 22,
     "metadata": {},
     "output_type": "execute_result"
    }
   ],
   "source": [
    "a[1:3] = [34,65]\n",
    "a"
   ]
  },
  {
   "cell_type": "code",
   "execution_count": 23,
   "id": "4f81f195",
   "metadata": {},
   "outputs": [],
   "source": [
    "a[2] = 11"
   ]
  },
  {
   "cell_type": "code",
   "execution_count": 24,
   "id": "58853413",
   "metadata": {},
   "outputs": [
    {
     "data": {
      "text/plain": [
       "[1, 34, 11, 4, 5]"
      ]
     },
     "execution_count": 24,
     "metadata": {},
     "output_type": "execute_result"
    }
   ],
   "source": [
    "a"
   ]
  },
  {
   "cell_type": "code",
   "execution_count": 25,
   "id": "d13e0055",
   "metadata": {},
   "outputs": [
    {
     "data": {
      "text/plain": [
       "[1, 12, 65, 78, 5]"
      ]
     },
     "execution_count": 25,
     "metadata": {},
     "output_type": "execute_result"
    }
   ],
   "source": [
    "a[1:4]  = [12,65,78]\n",
    "a"
   ]
  },
  {
   "cell_type": "code",
   "execution_count": 26,
   "id": "0a8a9fea",
   "metadata": {},
   "outputs": [
    {
     "data": {
      "text/plain": [
       "[1, 12, 65, 78]"
      ]
     },
     "execution_count": 26,
     "metadata": {},
     "output_type": "execute_result"
    }
   ],
   "source": [
    "a.pop()\n",
    "a"
   ]
  },
  {
   "cell_type": "code",
   "execution_count": 27,
   "id": "353131b5",
   "metadata": {},
   "outputs": [
    {
     "data": {
      "text/plain": [
       "[1, 12, 65]"
      ]
     },
     "execution_count": 27,
     "metadata": {},
     "output_type": "execute_result"
    }
   ],
   "source": [
    "a.pop()\n",
    "a"
   ]
  },
  {
   "cell_type": "code",
   "execution_count": 28,
   "id": "bf11bbb7",
   "metadata": {},
   "outputs": [
    {
     "data": {
      "text/plain": [
       "12"
      ]
     },
     "execution_count": 28,
     "metadata": {},
     "output_type": "execute_result"
    }
   ],
   "source": [
    "a.pop(1)"
   ]
  },
  {
   "cell_type": "code",
   "execution_count": 29,
   "id": "09e8d1cf",
   "metadata": {},
   "outputs": [
    {
     "data": {
      "text/plain": [
       "[1, 2, 3, 4, 5]"
      ]
     },
     "execution_count": 29,
     "metadata": {},
     "output_type": "execute_result"
    }
   ],
   "source": [
    "a = [1,2,3,4,5]\n",
    "a"
   ]
  },
  {
   "cell_type": "code",
   "execution_count": 30,
   "id": "f3a4cbf8",
   "metadata": {},
   "outputs": [
    {
     "name": "stdout",
     "output_type": "stream",
     "text": [
      "3\n",
      "[1, 2, 4, 5]\n"
     ]
    }
   ],
   "source": [
    "removeItem = a.pop(2)\n",
    "print(removeItem)\n",
    "print(a)"
   ]
  },
  {
   "cell_type": "code",
   "execution_count": 31,
   "id": "37187b00",
   "metadata": {},
   "outputs": [
    {
     "data": {
      "text/plain": [
       "[1, 2, 4, 5, 34]"
      ]
     },
     "execution_count": 31,
     "metadata": {},
     "output_type": "execute_result"
    }
   ],
   "source": [
    "a.append(34)\n",
    "a"
   ]
  },
  {
   "cell_type": "code",
   "execution_count": 32,
   "id": "3c13ce5d",
   "metadata": {},
   "outputs": [
    {
     "data": {
      "text/plain": [
       "[1, 11, 2, 4, 5, 34]"
      ]
     },
     "execution_count": 32,
     "metadata": {},
     "output_type": "execute_result"
    }
   ],
   "source": [
    "a.insert(1,11)\n",
    "a"
   ]
  },
  {
   "cell_type": "code",
   "execution_count": 33,
   "id": "41e55495",
   "metadata": {},
   "outputs": [
    {
     "data": {
      "text/plain": [
       "[1, 11, 2, 4, 5, 34, 12, 13, 14, 15]"
      ]
     },
     "execution_count": 33,
     "metadata": {},
     "output_type": "execute_result"
    }
   ],
   "source": [
    "short = [12,13,14,15]\n",
    "a.extend(short)\n",
    "a"
   ]
  },
  {
   "cell_type": "code",
   "execution_count": 34,
   "id": "679f40ff",
   "metadata": {},
   "outputs": [
    {
     "data": {
      "text/plain": [
       "[1, 11, 2, 4, 5, 34, 12, 13, 14, 15, 323, 434]"
      ]
     },
     "execution_count": 34,
     "metadata": {},
     "output_type": "execute_result"
    }
   ],
   "source": [
    "short =[323,434]\n",
    "a  = a + short\n",
    "a"
   ]
  },
  {
   "cell_type": "code",
   "execution_count": 35,
   "id": "a6829f97",
   "metadata": {},
   "outputs": [
    {
     "data": {
      "text/plain": [
       "[1, 2, 3, 1, 2, 3]"
      ]
     },
     "execution_count": 35,
     "metadata": {},
     "output_type": "execute_result"
    }
   ],
   "source": [
    "a = [1,2,3]\n",
    "a = a*2\n",
    "a"
   ]
  },
  {
   "cell_type": "code",
   "execution_count": 36,
   "id": "36c315ff",
   "metadata": {},
   "outputs": [
    {
     "data": {
      "text/plain": [
       "[1, 3, 1, 2, 3]"
      ]
     },
     "execution_count": 36,
     "metadata": {},
     "output_type": "execute_result"
    }
   ],
   "source": [
    "a.remove(2)\n",
    "a"
   ]
  },
  {
   "cell_type": "code",
   "execution_count": 37,
   "id": "41a19b16",
   "metadata": {},
   "outputs": [
    {
     "data": {
      "text/plain": [
       "[]"
      ]
     },
     "execution_count": 37,
     "metadata": {},
     "output_type": "execute_result"
    }
   ],
   "source": [
    "a.clear()\n",
    "a"
   ]
  },
  {
   "cell_type": "code",
   "execution_count": 38,
   "id": "c9ec3b4e",
   "metadata": {},
   "outputs": [
    {
     "data": {
      "text/plain": [
       "[1, 2, 3]"
      ]
     },
     "execution_count": 38,
     "metadata": {},
     "output_type": "execute_result"
    }
   ],
   "source": [
    "a = [1,2,3]\n",
    "a"
   ]
  },
  {
   "cell_type": "code",
   "execution_count": 39,
   "id": "3a4caa7c",
   "metadata": {},
   "outputs": [
    {
     "data": {
      "text/plain": [
       "[1, 3]"
      ]
     },
     "execution_count": 39,
     "metadata": {},
     "output_type": "execute_result"
    }
   ],
   "source": [
    "del a[1]\n",
    "a"
   ]
  },
  {
   "cell_type": "code",
   "execution_count": 40,
   "id": "b1ea360e",
   "metadata": {},
   "outputs": [
    {
     "ename": "NameError",
     "evalue": "name 'a' is not defined",
     "output_type": "error",
     "traceback": [
      "\u001b[1;31m---------------------------------------------------------------------------\u001b[0m",
      "\u001b[1;31mNameError\u001b[0m                                 Traceback (most recent call last)",
      "\u001b[1;32m~\\AppData\\Local\\Temp/ipykernel_15532/3125231900.py\u001b[0m in \u001b[0;36m<module>\u001b[1;34m\u001b[0m\n\u001b[0;32m      1\u001b[0m \u001b[1;32mdel\u001b[0m \u001b[0ma\u001b[0m\u001b[1;33m\u001b[0m\u001b[1;33m\u001b[0m\u001b[0m\n\u001b[1;32m----> 2\u001b[1;33m \u001b[0ma\u001b[0m\u001b[1;33m\u001b[0m\u001b[1;33m\u001b[0m\u001b[0m\n\u001b[0m",
      "\u001b[1;31mNameError\u001b[0m: name 'a' is not defined"
     ]
    }
   ],
   "source": [
    "del a\n",
    "a"
   ]
  },
  {
   "cell_type": "code",
   "execution_count": null,
   "id": "f320d908",
   "metadata": {},
   "outputs": [],
   "source": [
    "a = [1,2,3]\n",
    "a.extend([4])\n",
    "a"
   ]
  },
  {
   "cell_type": "code",
   "execution_count": null,
   "id": "ab734075",
   "metadata": {},
   "outputs": [],
   "source": [
    "a.append([5,6])\n",
    "a\n",
    "\n"
   ]
  },
  {
   "cell_type": "code",
   "execution_count": null,
   "id": "dbb616bb",
   "metadata": {},
   "outputs": [],
   "source": [
    "a[4]"
   ]
  },
  {
   "cell_type": "markdown",
   "id": "174b88fd",
   "metadata": {},
   "source": [
    "### TUPLE"
   ]
  },
  {
   "cell_type": "code",
   "execution_count": null,
   "id": "082a5da9",
   "metadata": {},
   "outputs": [],
   "source": [
    "tup = (1,2,3,'TOSIF',4,5)\n"
   ]
  },
  {
   "cell_type": "code",
   "execution_count": null,
   "id": "ea28c499",
   "metadata": {},
   "outputs": [],
   "source": [
    "tup[1:4]"
   ]
  },
  {
   "cell_type": "code",
   "execution_count": null,
   "id": "466c57a4",
   "metadata": {},
   "outputs": [],
   "source": [
    "del tup\n"
   ]
  },
  {
   "cell_type": "code",
   "execution_count": null,
   "id": "8e7b3814",
   "metadata": {},
   "outputs": [],
   "source": [
    "tup = (1,2,3,4)\n",
    "myList = list(tup)\n",
    "myList = tuple(myList)\n",
    "myList\n"
   ]
  },
  {
   "cell_type": "code",
   "execution_count": null,
   "id": "69b0e371",
   "metadata": {},
   "outputs": [],
   "source": [
    "for val in myList:\n",
    "    print(val)"
   ]
  },
  {
   "cell_type": "code",
   "execution_count": null,
   "id": "29ed7149",
   "metadata": {},
   "outputs": [],
   "source": [
    "tup1 = (1,2,3)\n",
    "tup2 = (4,5,6)\n",
    "print(tup1 + tup2)\n"
   ]
  },
  {
   "cell_type": "code",
   "execution_count": null,
   "id": "01edda30",
   "metadata": {},
   "outputs": [],
   "source": [
    "tup1 * 3"
   ]
  },
  {
   "cell_type": "markdown",
   "id": "5583cde6",
   "metadata": {},
   "source": [
    "### Sets"
   ]
  },
  {
   "cell_type": "code",
   "execution_count": null,
   "id": "73d79dc3",
   "metadata": {},
   "outputs": [],
   "source": [
    "mySet = {1,3,'T',4,5,5}\n",
    "mySet"
   ]
  },
  {
   "cell_type": "code",
   "execution_count": null,
   "id": "676c6680",
   "metadata": {},
   "outputs": [],
   "source": [
    "mySet = {1,3,4,5,5}\n",
    "mySet"
   ]
  },
  {
   "cell_type": "code",
   "execution_count": null,
   "id": "fd96571e",
   "metadata": {},
   "outputs": [],
   "source": [
    "mySet.add(5)\n",
    "mySet"
   ]
  },
  {
   "cell_type": "code",
   "execution_count": null,
   "id": "f3c244e6",
   "metadata": {},
   "outputs": [],
   "source": [
    "mySet.discard(1)\n",
    "mySet"
   ]
  },
  {
   "cell_type": "code",
   "execution_count": null,
   "id": "1dff77e8",
   "metadata": {},
   "outputs": [],
   "source": [
    "mySet.update([1,23])"
   ]
  },
  {
   "cell_type": "code",
   "execution_count": null,
   "id": "a7238a32",
   "metadata": {},
   "outputs": [],
   "source": [
    "mySet"
   ]
  },
  {
   "cell_type": "code",
   "execution_count": null,
   "id": "78543fbc",
   "metadata": {},
   "outputs": [],
   "source": [
    "mySet.pop()"
   ]
  },
  {
   "cell_type": "code",
   "execution_count": null,
   "id": "fef37488",
   "metadata": {},
   "outputs": [],
   "source": [
    "mySet"
   ]
  },
  {
   "cell_type": "code",
   "execution_count": null,
   "id": "7364f2ac",
   "metadata": {},
   "outputs": [],
   "source": [
    "s = {12,43,23,54,333,411}\n",
    "s.pop()\n",
    "s"
   ]
  },
  {
   "cell_type": "code",
   "execution_count": null,
   "id": "431737d8",
   "metadata": {},
   "outputs": [],
   "source": [
    "s1 = {1,2,3,4,5}\n",
    "s2 ={1,2,6,7,8}\n",
    "s1 | s2"
   ]
  },
  {
   "cell_type": "code",
   "execution_count": null,
   "id": "4908f8c3",
   "metadata": {},
   "outputs": [],
   "source": [
    "s1 & s2"
   ]
  },
  {
   "cell_type": "markdown",
   "id": "e411aeb9",
   "metadata": {},
   "source": [
    "### Dictionaries"
   ]
  },
  {
   "cell_type": "code",
   "execution_count": null,
   "id": "4e010ba7",
   "metadata": {},
   "outputs": [],
   "source": [
    "profile = {'first':'tosif','last':'khan'}\n",
    "\n",
    "profile.get('kered','key not found')"
   ]
  },
  {
   "cell_type": "code",
   "execution_count": null,
   "id": "7543d649",
   "metadata": {},
   "outputs": [],
   "source": [
    "profile['first']"
   ]
  },
  {
   "cell_type": "code",
   "execution_count": null,
   "id": "574fa770",
   "metadata": {},
   "outputs": [],
   "source": [
    "for k,v in profile.items():\n",
    "    print(k)\n",
    "    print(v)\n"
   ]
  },
  {
   "cell_type": "code",
   "execution_count": null,
   "id": "7a1f0cd0",
   "metadata": {},
   "outputs": [],
   "source": [
    "for keys in profile:\n",
    "    print(v)"
   ]
  },
  {
   "cell_type": "code",
   "execution_count": null,
   "id": "bf812f78",
   "metadata": {},
   "outputs": [],
   "source": [
    "for value in profile.values():\n",
    "    print(value)"
   ]
  },
  {
   "cell_type": "code",
   "execution_count": null,
   "id": "b9cd074d",
   "metadata": {},
   "outputs": [],
   "source": [
    "profile.values()"
   ]
  },
  {
   "cell_type": "code",
   "execution_count": null,
   "id": "07c204ab",
   "metadata": {},
   "outputs": [],
   "source": [
    "del profile['last']"
   ]
  },
  {
   "cell_type": "code",
   "execution_count": null,
   "id": "4d693bea",
   "metadata": {},
   "outputs": [],
   "source": [
    "profile"
   ]
  },
  {
   "cell_type": "code",
   "execution_count": null,
   "id": "9e641dd8",
   "metadata": {},
   "outputs": [],
   "source": [
    "profile['last'] = 'khan'"
   ]
  },
  {
   "cell_type": "code",
   "execution_count": null,
   "id": "806aafe5",
   "metadata": {},
   "outputs": [],
   "source": [
    "\n",
    "profile.setdefault('nice','empty')"
   ]
  },
  {
   "cell_type": "code",
   "execution_count": null,
   "id": "d63abd0b",
   "metadata": {},
   "outputs": [],
   "source": [
    "profile"
   ]
  },
  {
   "cell_type": "code",
   "execution_count": null,
   "id": "0f5bf5dd",
   "metadata": {},
   "outputs": [],
   "source": [
    "profile['first'] = 'ayan'\n",
    "profile"
   ]
  },
  {
   "cell_type": "code",
   "execution_count": null,
   "id": "0ad62da0",
   "metadata": {},
   "outputs": [],
   "source": [
    "profile['ss'] = 'de'"
   ]
  },
  {
   "cell_type": "code",
   "execution_count": null,
   "id": "37543ea4",
   "metadata": {},
   "outputs": [],
   "source": [
    "profile"
   ]
  },
  {
   "cell_type": "code",
   "execution_count": null,
   "id": "648a2aad",
   "metadata": {},
   "outputs": [],
   "source": [
    "profile.fromkeys(['first','last'],)"
   ]
  },
  {
   "cell_type": "code",
   "execution_count": null,
   "id": "133b1667",
   "metadata": {},
   "outputs": [],
   "source": [
    "num =0\n",
    "if num > 10:\n",
    "    print('true')\n",
    "elif num < 10:\n",
    "    pass\n",
    "else:\n",
    "    print('falser')"
   ]
  },
  {
   "cell_type": "code",
   "execution_count": null,
   "id": "e0dca248",
   "metadata": {},
   "outputs": [],
   "source": [
    "for i in range(1,10):\n",
    "    if i == 7:\n",
    "        break\n",
    "    print(i)\n",
    "    "
   ]
  },
  {
   "cell_type": "code",
   "execution_count": 41,
   "id": "ec09759c",
   "metadata": {},
   "outputs": [
    {
     "name": "stdout",
     "output_type": "stream",
     "text": [
      "1\n",
      "2\n",
      "3\n",
      "4\n",
      "5\n"
     ]
    }
   ],
   "source": [
    "l = [1,2,3,4,5]\n",
    "i = 0\n",
    "while i < len(l):  # i < 5 # 0,1,2,3,4\n",
    "    print(l[i])\n",
    "    i+=1\n",
    "    "
   ]
  },
  {
   "cell_type": "code",
   "execution_count": 43,
   "id": "52a7331d",
   "metadata": {},
   "outputs": [
    {
     "name": "stdout",
     "output_type": "stream",
     "text": [
      "1\n",
      "2\n",
      "3\n",
      "4\n",
      "5\n"
     ]
    }
   ],
   "source": [
    "for i in l: #[1,2,3,4,5,6,7,8,9]\n",
    "    print(i)"
   ]
  },
  {
   "cell_type": "code",
   "execution_count": 44,
   "id": "37702b18",
   "metadata": {},
   "outputs": [],
   "source": [
    "sent = ['words','are','awesome']\n"
   ]
  },
  {
   "cell_type": "code",
   "execution_count": 46,
   "id": "7e6c31b2",
   "metadata": {},
   "outputs": [
    {
     "name": "stdout",
     "output_type": "stream",
     "text": [
      "words\n",
      "are\n",
      "awesome\n"
     ]
    }
   ],
   "source": [
    "for i in sent:\n",
    "    print(i)"
   ]
  },
  {
   "cell_type": "code",
   "execution_count": 49,
   "id": "3370f807",
   "metadata": {},
   "outputs": [
    {
     "data": {
      "text/plain": [
       "['words', 'are', 'awesome']"
      ]
     },
     "execution_count": 49,
     "metadata": {},
     "output_type": "execute_result"
    }
   ],
   "source": [
    "newSent=[]\n",
    "for val in sent:\n",
    "    newSent.append(val)\n",
    "newSent"
   ]
  },
  {
   "cell_type": "code",
   "execution_count": 52,
   "id": "414de896",
   "metadata": {},
   "outputs": [
    {
     "data": {
      "text/plain": [
       "['are', 'awesome']"
      ]
     },
     "execution_count": 52,
     "metadata": {},
     "output_type": "execute_result"
    }
   ],
   "source": [
    "vowels = ['a','e','i','o','u']\n",
    "newSent = []\n",
    "for val in sent:\n",
    "    if val[0] in vowels:\n",
    "        newSent.append(val)\n",
    "newSent\n",
    "    "
   ]
  },
  {
   "cell_type": "code",
   "execution_count": 60,
   "id": "dda45a7e",
   "metadata": {},
   "outputs": [
    {
     "data": {
      "text/plain": [
       "['W', 'D', 'A', 'R', 'A', 'S', 'M', 'E']"
      ]
     },
     "execution_count": 60,
     "metadata": {},
     "output_type": "execute_result"
    }
   ],
   "source": [
    "sent = ['WorDs','ARe','AweSoME']\n",
    "\n",
    "newSent = [alp  for word in sent for alp in word if alp.isupper()]\n",
    "\n",
    "# for val in sent:\n",
    "#     #words,are ,awesome\n",
    "#     for alp in val:\n",
    "#         if alp.isupper():\n",
    "#             newSent.append(alp)\n",
    "newSent"
   ]
  },
  {
   "cell_type": "code",
   "execution_count": 71,
   "id": "8b9a9ba6",
   "metadata": {},
   "outputs": [
    {
     "data": {
      "text/plain": [
       "['ayan', 'himanshu', 'aliyanz']"
      ]
     },
     "execution_count": 71,
     "metadata": {},
     "output_type": "execute_result"
    }
   ],
   "source": [
    "std = { 0 : [12,'ayan'],\n",
    "        1 : [34,'himanshu'],\n",
    "        3 : [32,'aliyanz'],\n",
    "        4 : [56,'sajid']   }\n",
    "\n",
    "present = [v[1] for k,v in std.items() if v[0] < 50 ]\n",
    "\n",
    "# for k,v in std.items():\n",
    "#     if v[0] < 50:\n",
    "#         present.append(v[1])\n",
    "present"
   ]
  },
  {
   "cell_type": "code",
   "execution_count": 72,
   "id": "7c58d0cb",
   "metadata": {},
   "outputs": [
    {
     "data": {
      "text/plain": [
       "['a', 'e', 'i', 'o', 'u']"
      ]
     },
     "execution_count": 72,
     "metadata": {},
     "output_type": "execute_result"
    }
   ],
   "source": [
    "vowels"
   ]
  },
  {
   "cell_type": "code",
   "execution_count": 73,
   "id": "89f349e1",
   "metadata": {},
   "outputs": [
    {
     "data": {
      "text/plain": [
       "{0: [12, 'ayan'], 1: [34, 'himanshu'], 3: [32, 'aliyanz'], 4: [56, 'sajid']}"
      ]
     },
     "execution_count": 73,
     "metadata": {},
     "output_type": "execute_result"
    }
   ],
   "source": [
    "std"
   ]
  },
  {
   "cell_type": "code",
   "execution_count": 76,
   "id": "f0aee79d",
   "metadata": {},
   "outputs": [
    {
     "data": {
      "text/plain": [
       "['ayan', 'aliyanz']"
      ]
     },
     "execution_count": 76,
     "metadata": {},
     "output_type": "execute_result"
    }
   ],
   "source": [
    "v_std = [v[1] for k,v in std.items() if v[1][0] in vowels]\n",
    "# for k,v in std.items():\n",
    "#     if  v[1][0] in vowels:\n",
    "#         print(v[1])\n",
    "v_std"
   ]
  },
  {
   "cell_type": "code",
   "execution_count": 77,
   "id": "27f4b872",
   "metadata": {},
   "outputs": [
    {
     "data": {
      "text/plain": [
       "['a', 'e', 'i', 'o', 'u']"
      ]
     },
     "execution_count": 77,
     "metadata": {},
     "output_type": "execute_result"
    }
   ],
   "source": [
    "vowels"
   ]
  },
  {
   "cell_type": "code",
   "execution_count": 78,
   "id": "3c51cf75",
   "metadata": {},
   "outputs": [
    {
     "data": {
      "text/plain": [
       "{0: [12, 'ayan'], 1: [34, 'himanshu'], 3: [32, 'aliyanz'], 4: [56, 'sajid']}"
      ]
     },
     "execution_count": 78,
     "metadata": {},
     "output_type": "execute_result"
    }
   ],
   "source": [
    "std"
   ]
  },
  {
   "cell_type": "code",
   "execution_count": 88,
   "id": "63d63cfd",
   "metadata": {},
   "outputs": [
    {
     "data": {
      "text/plain": [
       "{0: [12, 'ayan'], 3: [32, 'aliyanz']}"
      ]
     },
     "execution_count": 88,
     "metadata": {},
     "output_type": "execute_result"
    }
   ],
   "source": [
    "n_dict= { k:v for k,v in std.items() if v[1][0] in vowels}\n",
    "# for k,v in std.items():\n",
    "#     if v[1][0] in vowels:\n",
    "#         n_dict[k] = v\n",
    "n_dict"
   ]
  },
  {
   "cell_type": "markdown",
   "id": "6526a741",
   "metadata": {},
   "source": [
    "### Functions"
   ]
  },
  {
   "cell_type": "code",
   "execution_count": 89,
   "id": "1a08418e",
   "metadata": {},
   "outputs": [],
   "source": [
    "def fun():\n",
    "    print('this is function')\n",
    "    \n",
    "    "
   ]
  },
  {
   "cell_type": "code",
   "execution_count": 90,
   "id": "13f6fb0d",
   "metadata": {},
   "outputs": [
    {
     "name": "stdout",
     "output_type": "stream",
     "text": [
      "this is function\n"
     ]
    }
   ],
   "source": [
    "fun()"
   ]
  },
  {
   "cell_type": "code",
   "execution_count": 91,
   "id": "a33d8471",
   "metadata": {},
   "outputs": [],
   "source": [
    "def add(a,b):\n",
    "    return a + b"
   ]
  },
  {
   "cell_type": "code",
   "execution_count": 95,
   "id": "ff6597a2",
   "metadata": {},
   "outputs": [
    {
     "data": {
      "text/plain": [
       "15"
      ]
     },
     "execution_count": 95,
     "metadata": {},
     "output_type": "execute_result"
    }
   ],
   "source": [
    "add(12,3)"
   ]
  },
  {
   "cell_type": "code",
   "execution_count": 96,
   "id": "ed5febb8",
   "metadata": {},
   "outputs": [],
   "source": [
    "def addItems(*args):\n",
    "    print(args)"
   ]
  },
  {
   "cell_type": "code",
   "execution_count": 97,
   "id": "7b7463ce",
   "metadata": {},
   "outputs": [
    {
     "name": "stdout",
     "output_type": "stream",
     "text": [
      "(1, 2, 3, 4, 54, 5)\n"
     ]
    }
   ],
   "source": [
    "addItems(1,2,3,4,54,5)"
   ]
  },
  {
   "cell_type": "code",
   "execution_count": 99,
   "id": "69ebb404",
   "metadata": {},
   "outputs": [
    {
     "name": "stdout",
     "output_type": "stream",
     "text": [
      "10\n"
     ]
    }
   ],
   "source": [
    "tup = (1,2,3,4)\n",
    "sum = 0\n",
    "for val in tup:\n",
    "    sum += val\n",
    "print(sum)\n",
    " "
   ]
  },
  {
   "cell_type": "code",
   "execution_count": 103,
   "id": "e7c7b9a1",
   "metadata": {},
   "outputs": [],
   "source": [
    "def ayan(n):\n",
    "    for i in range(n):\n",
    "        if i % 2 == 0:\n",
    "            print(i)"
   ]
  },
  {
   "cell_type": "code",
   "execution_count": 105,
   "id": "114ac497",
   "metadata": {},
   "outputs": [
    {
     "name": "stdout",
     "output_type": "stream",
     "text": [
      "0\n",
      "2\n",
      "4\n",
      "6\n",
      "8\n"
     ]
    }
   ],
   "source": [
    "ayan(10)"
   ]
  },
  {
   "cell_type": "code",
   "execution_count": 106,
   "id": "5cbf815e",
   "metadata": {},
   "outputs": [],
   "source": [
    "even = ayan"
   ]
  },
  {
   "cell_type": "code",
   "execution_count": 113,
   "id": "e31983f6",
   "metadata": {},
   "outputs": [
    {
     "name": "stdout",
     "output_type": "stream",
     "text": [
      "True\n"
     ]
    }
   ],
   "source": [
    "odd = lambda x :  x % 2 != 0\n",
    "print(odd(13))"
   ]
  },
  {
   "cell_type": "code",
   "execution_count": 127,
   "id": "deebee98",
   "metadata": {},
   "outputs": [
    {
     "data": {
      "text/plain": [
       "<map at 0x2d506a58190>"
      ]
     },
     "execution_count": 127,
     "metadata": {},
     "output_type": "execute_result"
    }
   ],
   "source": [
    "l = [1,2,3,4,5,6]\n",
    "def square(n):\n",
    "    return n*n\n",
    "\n",
    "map(square,l)\n"
   ]
  },
  {
   "cell_type": "code",
   "execution_count": 128,
   "id": "3cb2a8ef",
   "metadata": {},
   "outputs": [],
   "source": [
    "import numpy as np\n"
   ]
  },
  {
   "cell_type": "code",
   "execution_count": null,
   "id": "b1290b55",
   "metadata": {},
   "outputs": [],
   "source": []
  }
 ],
 "metadata": {
  "kernelspec": {
   "display_name": "Python 3 (ipykernel)",
   "language": "python",
   "name": "python3"
  },
  "language_info": {
   "codemirror_mode": {
    "name": "ipython",
    "version": 3
   },
   "file_extension": ".py",
   "mimetype": "text/x-python",
   "name": "python",
   "nbconvert_exporter": "python",
   "pygments_lexer": "ipython3",
   "version": "3.9.9"
  }
 },
 "nbformat": 4,
 "nbformat_minor": 5
}
