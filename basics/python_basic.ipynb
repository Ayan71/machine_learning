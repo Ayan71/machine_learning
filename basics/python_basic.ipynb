{
 "cells": [
  {
   "cell_type": "markdown",
   "id": "5def843f",
   "metadata": {},
   "source": [
    "## Machine Learning\n"
   ]
  },
  {
   "cell_type": "code",
   "execution_count": null,
   "id": "54a718da",
   "metadata": {},
   "outputs": [],
   "source": [
    "print('hello world')\n",
    "a = 10\n",
    "b=20\n",
    "print(a/b)\n",
    "print(int(a/b))\n",
    "print(a//b)\n",
    "print(a**b)\n"
   ]
  },
  {
   "cell_type": "code",
   "execution_count": null,
   "id": "64279dad",
   "metadata": {},
   "outputs": [],
   "source": [
    "print('ds')"
   ]
  },
  {
   "cell_type": "code",
   "execution_count": null,
   "id": "277fc034",
   "metadata": {},
   "outputs": [],
   "source": [
    "\n",
    "print( (3 < 4) or (5 > 6)  )"
   ]
  },
  {
   "cell_type": "markdown",
   "id": "26bca0e0",
   "metadata": {},
   "source": [
    "#### Strings"
   ]
  },
  {
   "cell_type": "code",
   "execution_count": null,
   "id": "68cc073a",
   "metadata": {},
   "outputs": [],
   "source": [
    "str = \"   welcome here  \"\n",
    "str[0]"
   ]
  },
  {
   "cell_type": "code",
   "execution_count": null,
   "id": "4479ed87",
   "metadata": {},
   "outputs": [],
   "source": [
    "# stipe the left side space\n",
    "str = str.lstrip()\n",
    "str[0]\n",
    "str[-1]\n"
   ]
  },
  {
   "cell_type": "code",
   "execution_count": null,
   "id": "2cd7ad0f",
   "metadata": {},
   "outputs": [],
   "source": [
    "# stripe the right side space\n",
    "str = str.rstrip()\n",
    "str[-1]"
   ]
  },
  {
   "cell_type": "code",
   "execution_count": null,
   "id": "c20e1adf",
   "metadata": {},
   "outputs": [],
   "source": [
    "# strip from both side\n",
    "str = str.strip()\n",
    "print(str[0])\n",
    "print(str[-1])"
   ]
  },
  {
   "cell_type": "code",
   "execution_count": null,
   "id": "45dc2253",
   "metadata": {},
   "outputs": [],
   "source": [
    "str = 'tosif'\n",
    "str[1::2]"
   ]
  },
  {
   "cell_type": "code",
   "execution_count": null,
   "id": "b5fb1fdd",
   "metadata": {},
   "outputs": [],
   "source": [
    "str[::-1]\n"
   ]
  },
  {
   "cell_type": "code",
   "execution_count": null,
   "id": "a57f4289",
   "metadata": {},
   "outputs": [],
   "source": [
    "str[::-1]"
   ]
  },
  {
   "cell_type": "code",
   "execution_count": null,
   "id": "069fea31",
   "metadata": {},
   "outputs": [],
   "source": [
    "a = 'tosif'\n",
    "b = 'khan'\n",
    "c = 'mm'\n",
    "print('first name is {0} and last name is {1} and {2}'.format(a,b,c))\n",
    "\n",
    "print('first name is' , a ,'last name is ' , b)\n"
   ]
  },
  {
   "cell_type": "code",
   "execution_count": null,
   "id": "ca49ce4d",
   "metadata": {},
   "outputs": [],
   "source": [
    "a,b = 'himanshu','baretha'\n",
    "print(a,b)"
   ]
  },
  {
   "cell_type": "code",
   "execution_count": null,
   "id": "c39053b2",
   "metadata": {},
   "outputs": [],
   "source": [
    "'eeeeewelcomeeeeeeee'.lstrip('e')"
   ]
  },
  {
   "cell_type": "code",
   "execution_count": null,
   "id": "607970e4",
   "metadata": {},
   "outputs": [],
   "source": [
    "\n",
    "'welcome'.lstrip('w')"
   ]
  },
  {
   "cell_type": "code",
   "execution_count": null,
   "id": "d6dcfbda",
   "metadata": {},
   "outputs": [],
   "source": [
    "sent = 'welcome to dewas'\n",
    "sentList = sent.split()\n",
    "sentList\n",
    "'tosif'.join(sentList)"
   ]
  },
  {
   "cell_type": "markdown",
   "id": "6af40d69",
   "metadata": {},
   "source": [
    "### List"
   ]
  },
  {
   "cell_type": "code",
   "execution_count": null,
   "id": "d4234d30",
   "metadata": {},
   "outputs": [],
   "source": [
    "num = [1,2,3,4,'tosif',2.0]\n",
    "num"
   ]
  },
  {
   "cell_type": "code",
   "execution_count": null,
   "id": "495d3e72",
   "metadata": {},
   "outputs": [],
   "source": [
    "num[0]"
   ]
  },
  {
   "cell_type": "code",
   "execution_count": null,
   "id": "438f3332",
   "metadata": {},
   "outputs": [],
   "source": [
    "type(num)"
   ]
  },
  {
   "cell_type": "code",
   "execution_count": null,
   "id": "790f8f6f",
   "metadata": {},
   "outputs": [],
   "source": [
    "if isinstance(num,list):\n",
    "    print(\"yes its is\")"
   ]
  },
  {
   "cell_type": "code",
   "execution_count": null,
   "id": "88c65984",
   "metadata": {},
   "outputs": [],
   "source": [
    "a = [1,2,3,4,5]\n",
    "a"
   ]
  },
  {
   "cell_type": "code",
   "execution_count": null,
   "id": "9035efa9",
   "metadata": {},
   "outputs": [],
   "source": [
    "a[1] = 10\n",
    "a"
   ]
  },
  {
   "cell_type": "code",
   "execution_count": null,
   "id": "e51359ae",
   "metadata": {},
   "outputs": [],
   "source": [
    "a[1:3] = [34,65]\n",
    "a"
   ]
  },
  {
   "cell_type": "code",
   "execution_count": null,
   "id": "4f81f195",
   "metadata": {},
   "outputs": [],
   "source": [
    "a[2] = 11"
   ]
  },
  {
   "cell_type": "code",
   "execution_count": null,
   "id": "58853413",
   "metadata": {},
   "outputs": [],
   "source": [
    "a"
   ]
  },
  {
   "cell_type": "code",
   "execution_count": null,
   "id": "d13e0055",
   "metadata": {},
   "outputs": [],
   "source": [
    "a[1:4]  = [12,65,78]\n",
    "a"
   ]
  },
  {
   "cell_type": "code",
   "execution_count": null,
   "id": "0a8a9fea",
   "metadata": {},
   "outputs": [],
   "source": [
    "a.pop()\n",
    "a"
   ]
  },
  {
   "cell_type": "code",
   "execution_count": null,
   "id": "353131b5",
   "metadata": {},
   "outputs": [],
   "source": [
    "a.pop()\n",
    "a"
   ]
  },
  {
   "cell_type": "code",
   "execution_count": null,
   "id": "bf11bbb7",
   "metadata": {},
   "outputs": [],
   "source": [
    "a.pop(1)"
   ]
  },
  {
   "cell_type": "code",
   "execution_count": null,
   "id": "09e8d1cf",
   "metadata": {},
   "outputs": [],
   "source": [
    "a = [1,2,3,4,5]\n",
    "a"
   ]
  },
  {
   "cell_type": "code",
   "execution_count": null,
   "id": "f3a4cbf8",
   "metadata": {},
   "outputs": [],
   "source": [
    "removeItem = a.pop(2)\n",
    "print(removeItem)\n",
    "print(a)"
   ]
  },
  {
   "cell_type": "code",
   "execution_count": null,
   "id": "37187b00",
   "metadata": {},
   "outputs": [],
   "source": [
    "a.append(34)\n",
    "a"
   ]
  },
  {
   "cell_type": "code",
   "execution_count": null,
   "id": "3c13ce5d",
   "metadata": {},
   "outputs": [],
   "source": [
    "a.insert(1,11)\n",
    "a"
   ]
  },
  {
   "cell_type": "code",
   "execution_count": null,
   "id": "41e55495",
   "metadata": {},
   "outputs": [],
   "source": [
    "short = [12,13,14,15]\n",
    "a.extend(short)\n",
    "a"
   ]
  },
  {
   "cell_type": "code",
   "execution_count": null,
   "id": "679f40ff",
   "metadata": {},
   "outputs": [],
   "source": [
    "short =[323,434]\n",
    "a  = a + short\n",
    "a"
   ]
  },
  {
   "cell_type": "code",
   "execution_count": null,
   "id": "a6829f97",
   "metadata": {},
   "outputs": [],
   "source": [
    "a = [1,2,3]\n",
    "a = a*2\n",
    "a"
   ]
  },
  {
   "cell_type": "code",
   "execution_count": null,
   "id": "36c315ff",
   "metadata": {},
   "outputs": [],
   "source": [
    "a.remove(2)\n",
    "a"
   ]
  },
  {
   "cell_type": "code",
   "execution_count": null,
   "id": "41a19b16",
   "metadata": {},
   "outputs": [],
   "source": [
    "a.clear()\n",
    "a"
   ]
  },
  {
   "cell_type": "code",
   "execution_count": null,
   "id": "c9ec3b4e",
   "metadata": {},
   "outputs": [],
   "source": [
    "a = [1,2,3]\n",
    "a"
   ]
  },
  {
   "cell_type": "code",
   "execution_count": null,
   "id": "3a4caa7c",
   "metadata": {},
   "outputs": [],
   "source": [
    "del a[1]\n",
    "a"
   ]
  },
  {
   "cell_type": "code",
   "execution_count": null,
   "id": "b1ea360e",
   "metadata": {},
   "outputs": [],
   "source": [
    "del a\n",
    "a"
   ]
  },
  {
   "cell_type": "code",
   "execution_count": null,
   "id": "f320d908",
   "metadata": {},
   "outputs": [],
   "source": [
    "a = [1,2,3]\n",
    "a.extend([4])\n",
    "a"
   ]
  },
  {
   "cell_type": "code",
   "execution_count": null,
   "id": "ab734075",
   "metadata": {},
   "outputs": [],
   "source": [
    "a.append([5,6])\n",
    "a\n",
    "\n"
   ]
  },
  {
   "cell_type": "code",
   "execution_count": null,
   "id": "dbb616bb",
   "metadata": {},
   "outputs": [],
   "source": [
    "a[4]"
   ]
  },
  {
   "cell_type": "markdown",
   "id": "174b88fd",
   "metadata": {},
   "source": [
    "### TUPLE"
   ]
  },
  {
   "cell_type": "code",
   "execution_count": null,
   "id": "082a5da9",
   "metadata": {},
   "outputs": [],
   "source": [
    "tup = (1,2,3,'TOSIF',4,5)\n"
   ]
  },
  {
   "cell_type": "code",
   "execution_count": null,
   "id": "ea28c499",
   "metadata": {},
   "outputs": [],
   "source": [
    "tup[1:4]"
   ]
  },
  {
   "cell_type": "code",
   "execution_count": null,
   "id": "466c57a4",
   "metadata": {},
   "outputs": [],
   "source": [
    "del tup\n"
   ]
  },
  {
   "cell_type": "code",
   "execution_count": null,
   "id": "8e7b3814",
   "metadata": {},
   "outputs": [],
   "source": [
    "tup = (1,2,3,4)\n",
    "myList = list(tup)\n",
    "myList = tuple(myList)\n",
    "myList\n"
   ]
  },
  {
   "cell_type": "code",
   "execution_count": null,
   "id": "69b0e371",
   "metadata": {},
   "outputs": [],
   "source": [
    "for val in myList:\n",
    "    print(val)"
   ]
  },
  {
   "cell_type": "code",
   "execution_count": null,
   "id": "29ed7149",
   "metadata": {},
   "outputs": [],
   "source": [
    "tup1 = (1,2,3)\n",
    "tup2 = (4,5,6)\n",
    "print(tup1 + tup2)\n"
   ]
  },
  {
   "cell_type": "code",
   "execution_count": null,
   "id": "01edda30",
   "metadata": {},
   "outputs": [],
   "source": [
    "tup1 * 3"
   ]
  },
  {
   "cell_type": "markdown",
   "id": "5583cde6",
   "metadata": {},
   "source": [
    "### Sets"
   ]
  },
  {
   "cell_type": "code",
   "execution_count": null,
   "id": "73d79dc3",
   "metadata": {},
   "outputs": [],
   "source": [
    "mySet = {1,3,'T',4,5,5}\n",
    "mySet"
   ]
  },
  {
   "cell_type": "code",
   "execution_count": null,
   "id": "676c6680",
   "metadata": {},
   "outputs": [],
   "source": [
    "mySet = {1,3,4,5,5}\n",
    "mySet"
   ]
  },
  {
   "cell_type": "code",
   "execution_count": null,
   "id": "fd96571e",
   "metadata": {},
   "outputs": [],
   "source": [
    "mySet.add(5)\n",
    "mySet"
   ]
  },
  {
   "cell_type": "code",
   "execution_count": null,
   "id": "f3c244e6",
   "metadata": {},
   "outputs": [],
   "source": [
    "mySet.discard(1)\n",
    "mySet"
   ]
  },
  {
   "cell_type": "code",
   "execution_count": null,
   "id": "1dff77e8",
   "metadata": {},
   "outputs": [],
   "source": [
    "mySet.update([1,23])"
   ]
  },
  {
   "cell_type": "code",
   "execution_count": null,
   "id": "a7238a32",
   "metadata": {},
   "outputs": [],
   "source": [
    "mySet"
   ]
  },
  {
   "cell_type": "code",
   "execution_count": null,
   "id": "78543fbc",
   "metadata": {},
   "outputs": [],
   "source": [
    "mySet.pop()"
   ]
  },
  {
   "cell_type": "code",
   "execution_count": null,
   "id": "fef37488",
   "metadata": {},
   "outputs": [],
   "source": [
    "mySet"
   ]
  },
  {
   "cell_type": "code",
   "execution_count": null,
   "id": "7364f2ac",
   "metadata": {},
   "outputs": [],
   "source": [
    "s = {12,43,23,54,333,411}\n",
    "s.pop()\n",
    "s"
   ]
  },
  {
   "cell_type": "code",
   "execution_count": null,
   "id": "431737d8",
   "metadata": {},
   "outputs": [],
   "source": [
    "s1 = {1,2,3,4,5}\n",
    "s2 ={1,2,6,7,8}\n",
    "s1 | s2"
   ]
  },
  {
   "cell_type": "code",
   "execution_count": null,
   "id": "4908f8c3",
   "metadata": {},
   "outputs": [],
   "source": [
    "s1 & s2"
   ]
  },
  {
   "cell_type": "markdown",
   "id": "e411aeb9",
   "metadata": {},
   "source": [
    "### Dictionaries"
   ]
  },
  {
   "cell_type": "code",
   "execution_count": null,
   "id": "4e010ba7",
   "metadata": {},
   "outputs": [],
   "source": [
    "profile = {'first':'tosif','last':'khan'}\n",
    "\n",
    "profile.get('kered','key not found')"
   ]
  },
  {
   "cell_type": "code",
   "execution_count": null,
   "id": "7543d649",
   "metadata": {},
   "outputs": [],
   "source": [
    "profile['first']"
   ]
  },
  {
   "cell_type": "code",
   "execution_count": null,
   "id": "574fa770",
   "metadata": {},
   "outputs": [],
   "source": [
    "for k,v in profile.items():\n",
    "    print(k)\n",
    "    print(v)\n"
   ]
  },
  {
   "cell_type": "code",
   "execution_count": null,
   "id": "7a1f0cd0",
   "metadata": {},
   "outputs": [],
   "source": [
    "for keys in profile:\n",
    "    print(v)"
   ]
  },
  {
   "cell_type": "code",
   "execution_count": null,
   "id": "bf812f78",
   "metadata": {},
   "outputs": [],
   "source": [
    "for value in profile.values():\n",
    "    print(value)"
   ]
  },
  {
   "cell_type": "code",
   "execution_count": null,
   "id": "b9cd074d",
   "metadata": {},
   "outputs": [],
   "source": [
    "profile.values()"
   ]
  },
  {
   "cell_type": "code",
   "execution_count": null,
   "id": "07c204ab",
   "metadata": {},
   "outputs": [],
   "source": [
    "del profile['last']"
   ]
  },
  {
   "cell_type": "code",
   "execution_count": null,
   "id": "4d693bea",
   "metadata": {},
   "outputs": [],
   "source": [
    "profile"
   ]
  },
  {
   "cell_type": "code",
   "execution_count": null,
   "id": "9e641dd8",
   "metadata": {},
   "outputs": [],
   "source": [
    "profile['last'] = 'khan'"
   ]
  },
  {
   "cell_type": "code",
   "execution_count": null,
   "id": "806aafe5",
   "metadata": {},
   "outputs": [],
   "source": [
    "\n",
    "profile.setdefault('nice','empty')"
   ]
  },
  {
   "cell_type": "code",
   "execution_count": null,
   "id": "d63abd0b",
   "metadata": {},
   "outputs": [],
   "source": [
    "profile"
   ]
  },
  {
   "cell_type": "code",
   "execution_count": null,
   "id": "0f5bf5dd",
   "metadata": {},
   "outputs": [],
   "source": [
    "profile['first'] = 'ayan'\n",
    "profile"
   ]
  },
  {
   "cell_type": "code",
   "execution_count": null,
   "id": "0ad62da0",
   "metadata": {},
   "outputs": [],
   "source": [
    "profile['ss'] = 'de'"
   ]
  },
  {
   "cell_type": "code",
   "execution_count": null,
   "id": "37543ea4",
   "metadata": {},
   "outputs": [],
   "source": [
    "profile"
   ]
  },
  {
   "cell_type": "code",
   "execution_count": null,
   "id": "648a2aad",
   "metadata": {},
   "outputs": [],
   "source": [
    "profile.fromkeys(['first','last'],)"
   ]
  },
  {
   "cell_type": "code",
   "execution_count": null,
   "id": "133b1667",
   "metadata": {},
   "outputs": [],
   "source": [
    "num =0\n",
    "if num > 10:\n",
    "    print('true')\n",
    "elif num < 10:\n",
    "    pass\n",
    "else:\n",
    "    print('falser')"
   ]
  },
  {
   "cell_type": "code",
   "execution_count": null,
   "id": "e0dca248",
   "metadata": {},
   "outputs": [],
   "source": [
    "for i in range(1,10):\n",
    "    if i == 7:\n",
    "        break\n",
    "    print(i)\n",
    "    "
   ]
  },
  {
   "cell_type": "code",
   "execution_count": null,
   "id": "ec09759c",
   "metadata": {},
   "outputs": [],
   "source": [
    "l = [1,2,3,4,5]\n",
    "i = 0\n",
    "while i < len(l):  # i < 5 # 0,1,2,3,4\n",
    "    print(l[i])\n",
    "    i+=1\n",
    "    "
   ]
  },
  {
   "cell_type": "code",
   "execution_count": null,
   "id": "52a7331d",
   "metadata": {},
   "outputs": [],
   "source": [
    "for i in l: #[1,2,3,4,5,6,7,8,9]\n",
    "    print(i)"
   ]
  },
  {
   "cell_type": "code",
   "execution_count": null,
   "id": "37702b18",
   "metadata": {},
   "outputs": [],
   "source": [
    "sent = ['words','are','awesome']\n"
   ]
  },
  {
   "cell_type": "code",
   "execution_count": null,
   "id": "7e6c31b2",
   "metadata": {},
   "outputs": [],
   "source": [
    "for i in sent:\n",
    "    print(i)"
   ]
  },
  {
   "cell_type": "code",
   "execution_count": null,
   "id": "3370f807",
   "metadata": {},
   "outputs": [],
   "source": [
    "newSent=[]\n",
    "for val in sent:\n",
    "    newSent.append(val)\n",
    "newSent"
   ]
  },
  {
   "cell_type": "code",
   "execution_count": null,
   "id": "414de896",
   "metadata": {},
   "outputs": [],
   "source": [
    "vowels = ['a','e','i','o','u']\n",
    "newSent = []\n",
    "for val in sent:\n",
    "    if val[0] in vowels:\n",
    "        newSent.append(val)\n",
    "newSent\n",
    "    "
   ]
  },
  {
   "cell_type": "code",
   "execution_count": null,
   "id": "dda45a7e",
   "metadata": {},
   "outputs": [],
   "source": [
    "sent = ['WorDs','ARe','AweSoME']\n",
    "\n",
    "newSent = [alp  for word in sent for alp in word if alp.isupper()]\n",
    "\n",
    "# for val in sent:\n",
    "#     #words,are ,awesome\n",
    "#     for alp in val:\n",
    "#         if alp.isupper():\n",
    "#             newSent.append(alp)\n",
    "newSent"
   ]
  },
  {
   "cell_type": "code",
   "execution_count": null,
   "id": "8b9a9ba6",
   "metadata": {},
   "outputs": [],
   "source": [
    "std = { 0 : [12,'ayan'],\n",
    "        1 : [34,'himanshu'],\n",
    "        3 : [32,'aliyanz'],\n",
    "        4 : [56,'sajid']   }\n",
    "\n",
    "present = [v[1] for k,v in std.items() if v[0] < 50 ]\n",
    "\n",
    "# for k,v in std.items():\n",
    "#     if v[0] < 50:\n",
    "#         present.append(v[1])\n",
    "present"
   ]
  },
  {
   "cell_type": "code",
   "execution_count": null,
   "id": "7c58d0cb",
   "metadata": {},
   "outputs": [],
   "source": [
    "vowels"
   ]
  },
  {
   "cell_type": "code",
   "execution_count": null,
   "id": "89f349e1",
   "metadata": {},
   "outputs": [],
   "source": [
    "std"
   ]
  },
  {
   "cell_type": "code",
   "execution_count": null,
   "id": "f0aee79d",
   "metadata": {},
   "outputs": [],
   "source": [
    "v_std = [v[1] for k,v in std.items() if v[1][0] in vowels]\n",
    "# for k,v in std.items():\n",
    "#     if  v[1][0] in vowels:\n",
    "#         print(v[1])\n",
    "v_std"
   ]
  },
  {
   "cell_type": "code",
   "execution_count": null,
   "id": "27f4b872",
   "metadata": {},
   "outputs": [],
   "source": [
    "vowels"
   ]
  },
  {
   "cell_type": "code",
   "execution_count": null,
   "id": "3c51cf75",
   "metadata": {},
   "outputs": [],
   "source": [
    "std"
   ]
  },
  {
   "cell_type": "code",
   "execution_count": null,
   "id": "63d63cfd",
   "metadata": {},
   "outputs": [],
   "source": [
    "n_dict= { k:v for k,v in std.items() if v[1][0] in vowels}\n",
    "# for k,v in std.items():\n",
    "#     if v[1][0] in vowels:\n",
    "#         n_dict[k] = v\n",
    "n_dict"
   ]
  },
  {
   "cell_type": "markdown",
   "id": "6526a741",
   "metadata": {},
   "source": [
    "### Functions"
   ]
  },
  {
   "cell_type": "code",
   "execution_count": null,
   "id": "1a08418e",
   "metadata": {},
   "outputs": [],
   "source": [
    "def fun():\n",
    "    print('this is function')\n",
    "    \n",
    "    "
   ]
  },
  {
   "cell_type": "code",
   "execution_count": null,
   "id": "13f6fb0d",
   "metadata": {},
   "outputs": [],
   "source": [
    "fun()"
   ]
  },
  {
   "cell_type": "code",
   "execution_count": null,
   "id": "a33d8471",
   "metadata": {},
   "outputs": [],
   "source": [
    "def add(a,b):\n",
    "    return a + b"
   ]
  },
  {
   "cell_type": "code",
   "execution_count": null,
   "id": "ff6597a2",
   "metadata": {},
   "outputs": [],
   "source": [
    "add(12,3)"
   ]
  },
  {
   "cell_type": "code",
   "execution_count": null,
   "id": "ed5febb8",
   "metadata": {},
   "outputs": [],
   "source": [
    "def addItems(*args):\n",
    "    print(args)"
   ]
  },
  {
   "cell_type": "code",
   "execution_count": null,
   "id": "7b7463ce",
   "metadata": {},
   "outputs": [],
   "source": [
    "addItems(1,2,3,4,54,5)"
   ]
  },
  {
   "cell_type": "code",
   "execution_count": null,
   "id": "69ebb404",
   "metadata": {},
   "outputs": [],
   "source": [
    "tup = (1,2,3,4)\n",
    "sum = 0\n",
    "for val in tup:\n",
    "    sum += val\n",
    "print(sum)\n",
    " "
   ]
  },
  {
   "cell_type": "code",
   "execution_count": null,
   "id": "e7c7b9a1",
   "metadata": {},
   "outputs": [],
   "source": [
    "def ayan(n):\n",
    "    for i in range(n):\n",
    "        if i % 2 == 0:\n",
    "            print(i)"
   ]
  },
  {
   "cell_type": "code",
   "execution_count": null,
   "id": "114ac497",
   "metadata": {},
   "outputs": [],
   "source": [
    "ayan(10)"
   ]
  },
  {
   "cell_type": "code",
   "execution_count": null,
   "id": "5cbf815e",
   "metadata": {},
   "outputs": [],
   "source": [
    "even = ayan"
   ]
  },
  {
   "cell_type": "code",
   "execution_count": null,
   "id": "e31983f6",
   "metadata": {},
   "outputs": [],
   "source": [
    "odd = lambda x :  x % 2 != 0\n",
    "print(odd(13))"
   ]
  },
  {
   "cell_type": "code",
   "execution_count": null,
   "id": "deebee98",
   "metadata": {},
   "outputs": [],
   "source": [
    "l = [1,2,3,4,5,6]\n",
    "def square(n):\n",
    "    return n*n\n",
    "\n",
    "map(square,l)\n"
   ]
  },
  {
   "cell_type": "markdown",
   "id": "3cb2a8ef",
   "metadata": {},
   "source": [
    "# NumPy\n",
    "\n",
    "It is an fundamental package which is used for scientfic computation in python\n",
    "It consist of robust data structure which is called multi dimensional array\n"
   ]
  },
  {
   "cell_type": "markdown",
   "id": "b1290b55",
   "metadata": {},
   "source": [
    "Numerical Python extensively effecient for efficient mathematical learning It allows user to store large amount of numerical data in the form of array using less memory  and perform extensive operation effeciently"
   ]
  },
  {
   "cell_type": "markdown",
   "id": "fae2aedc",
   "metadata": {},
   "source": [
    "Numpy array stores homogeneous numerical data"
   ]
  },
  {
   "cell_type": "code",
   "execution_count": null,
   "id": "806c79ea",
   "metadata": {},
   "outputs": [],
   "source": [
    "import numpy as np"
   ]
  },
  {
   "cell_type": "code",
   "execution_count": null,
   "id": "d9c02333",
   "metadata": {},
   "outputs": [],
   "source": [
    "# perform calculation over the entire array \n",
    "# without using any loop\n",
    "ar = np.array([1,2,3,4])\n",
    "type(ar)"
   ]
  },
  {
   "cell_type": "code",
   "execution_count": null,
   "id": "07d249eb",
   "metadata": {},
   "outputs": [],
   "source": [
    "lst = [1,3,4,'tosif']\n",
    "print(lst)\n",
    "ar = np.array([1,34,32,2.5])\n",
    "print(ar)"
   ]
  },
  {
   "cell_type": "code",
   "execution_count": null,
   "id": "afc784af",
   "metadata": {},
   "outputs": [],
   "source": [
    "# lst = [1,2,3,4,5,6]\n",
    "# for i in range(len(lst)):\n",
    "#     lst[i] = lst[i]+5\n",
    "# lst\n",
    "ar = ar + 5\n"
   ]
  },
  {
   "cell_type": "code",
   "execution_count": null,
   "id": "1d5f6b76",
   "metadata": {},
   "outputs": [],
   "source": [
    "# perform arithmetic operation on numpy array\n",
    "# speed of execution\n",
    "ar * 10.5\n",
    "ar / 10"
   ]
  },
  {
   "cell_type": "code",
   "execution_count": null,
   "id": "c4b882ef",
   "metadata": {},
   "outputs": [],
   "source": [
    "# Methos and operation on numpy\n",
    "l1 = [1,2,67,3]\n",
    "l2 = [5,6,7]\n",
    "l1+l2"
   ]
  },
  {
   "cell_type": "code",
   "execution_count": null,
   "id": "8fb0c6c5",
   "metadata": {},
   "outputs": [],
   "source": [
    "ar1 = np.array(l1)\n",
    "ar2 = np.array(l2)\n",
    "ar1 + ar2"
   ]
  },
  {
   "cell_type": "code",
   "execution_count": null,
   "id": "9a35fda6",
   "metadata": {},
   "outputs": [],
   "source": [
    "ar = np.array([1.0,True])\n",
    "# True  1 False 0\n",
    "ar\n",
    "\n"
   ]
  },
  {
   "cell_type": "code",
   "execution_count": null,
   "id": "effe52ff",
   "metadata": {},
   "outputs": [],
   "source": [
    "# Operation over 1-D array\n",
    "height = [32,43,34,3,4,6,5,7,8,45,423,54,786,756453,3,676,43,23,342,43543,3,3,45,432,12,56,76,456,43]\n",
    "ar = np.array(height)"
   ]
  },
  {
   "cell_type": "code",
   "execution_count": null,
   "id": "742ec7e7",
   "metadata": {},
   "outputs": [],
   "source": [
    "ar.size"
   ]
  },
  {
   "cell_type": "code",
   "execution_count": null,
   "id": "c36a3ed7",
   "metadata": {},
   "outputs": [],
   "source": [
    "print(ar.shape)\n",
    "print(ar.size)\n",
    "print(len(ar))"
   ]
  },
  {
   "cell_type": "code",
   "execution_count": null,
   "id": "178aa91c",
   "metadata": {},
   "outputs": [],
   "source": [
    "# problem to calculate BMI using array of height and weight\n",
    "height = [165,456,3423,43,5,4356,546]\n",
    "weight = [345,654,435,654,34,34,6]\n",
    "# bmi = w / (h**2)\n",
    "ar_h = np.array(height)\n",
    "ar_w = np.array(weight)\n",
    "\n",
    "ar_bmi = ar_w / ar_h ** 2\n",
    "ar_bmi"
   ]
  },
  {
   "cell_type": "code",
   "execution_count": null,
   "id": "f25c6729",
   "metadata": {},
   "outputs": [],
   "source": [
    "# fetch first element \n",
    "ar[0]\n",
    "ar[-1]\n",
    "# fetch last element "
   ]
  },
  {
   "cell_type": "code",
   "execution_count": null,
   "id": "91d754a6",
   "metadata": {},
   "outputs": [],
   "source": [
    "# perform logical operation on numpy \n",
    "ar_h[ar_h > 160]\n"
   ]
  },
  {
   "cell_type": "code",
   "execution_count": null,
   "id": "1e7b08df",
   "metadata": {},
   "outputs": [],
   "source": [
    "np.max(ar_h)\n",
    "np.min(ar_h)\n",
    "\n",
    "ar_h.mean()\n",
    "np.median(ar_h)\n"
   ]
  },
  {
   "cell_type": "code",
   "execution_count": null,
   "id": "15bfd0cc",
   "metadata": {},
   "outputs": [],
   "source": [
    "ar_h[::-1]"
   ]
  },
  {
   "cell_type": "code",
   "execution_count": null,
   "id": "ffc01cbb",
   "metadata": {},
   "outputs": [],
   "source": [
    "# Q3: From a given array, extract all the elements which are greater than 'm' and less than 'n'. Note: 'm' and 'n' are integer values provided as input?\n",
    "m = 100\n",
    "n = 3423\n",
    "\n",
    "ar_h[ (ar_h > m )& (ar_h <= n)]\n",
    "vl = np.logical_and(ar_h>m , ar_h<n)\n",
    "ar_h[vl]\n"
   ]
  },
  {
   "cell_type": "code",
   "execution_count": null,
   "id": "343cf2ca",
   "metadata": {},
   "outputs": [],
   "source": [
    "# Q1:\n",
    "ar = np.array([1,2,3,4,5,6]) \n",
    "ar[1::2]\n",
    "\n",
    "# Q2: Extract all the elements with an odd index?\n",
    "\n",
    "\n",
    "\n",
    "# Q4:You are provided with 2 lists that contain the data of an ecommerce website. \n",
    "# The first list contains the data for the number of items sold for a particular product\n",
    "#  and the second list contains the price of the product sold. \n",
    "number = [8, 9, 9, 1, 6, 9, 5, 7, 3, 9, 7, 3, 4, 8, 3, 5, 8, 4, 8, 7, 5, 7, 3, 6, 1, 2, 7, 4, 7, 7, 8, 4, 3, 4, 2, 2, 2, 7, 3, 5, 6, 1, 1, 3, 2, 1, 1, 7, 7, 1, 4, 4, 5, 6, 1, 2, 7, 4, 5, 8, 1, 4, 8, 6, 2, 4, 3, 7, 3, 6, 2, 3, 3, 3, 2, 4, 6, 8, 9, 3, 9, 3, 1, 8, 6, 6, 3, 3, 9, 4, 6, 4, 9, 6, 7, 1, 2, 8, 7, 8, 1, 4]\n",
    "price = [195, 225, 150, 150, 90, 60, 75, 255, 270, 225, 135, 195, 30, 15, 210, 105, 15, 30, 180, 60, 165, 60, 45, 225, 180, 90, 30, 210, 150, 15, 270, 60, 210, 180, 60, 225, 150, 150, 120, 195, 75, 240, 60, 45, 30, 180, 240, 285, 135, 165, 180, 240, 60, 105, 165, 240, 120, 45, 120, 165, 285, 225, 90, 105, 225, 45, 45, 45, 75, 180, 90, 240, 30, 30, 60, 135, 180, 15, 255, 180, 270, 135, 105, 135, 210, 180, 135, 195, 225, 75, 225, 15, 240, 60, 15, 180, 255, 90, 15, 150, 230, 150]\n",
    "ar_num = np.array(number)\n",
    "ar_price = np.array(price)\n",
    "#a)How many different products are sold by the company in total?\n",
    "print(ar_num.size)\n",
    "#b)How many items were sold in total?\n",
    "print(ar_num.sum())\n",
    "#c)What is the average price of the products sold by the e-commerce company?\n",
    "print(ar_price.mean())\n",
    "#d)What is the price of the costliest item sold?\n",
    "print(ar_price.max())\n",
    "#e)What is the total revenue of the company? [Revenue = Price*Quantity]\n",
    "print(ar_num * ar_price)\n",
    "#f)Demand for the 20th product on the list is higher than that for the 50th product. [True/False]\n",
    "print(ar_num[19] > ar_num[49])\n",
    "#g)How many products fall under the category of expensive goods?\n",
    "#An expensive good is one whose price is higher than the average price of the products sold by the company.\n",
    "avg = ar_price.mean()\n",
    "ar_price[ar_price > avg]"
   ]
  },
  {
   "cell_type": "code",
   "execution_count": null,
   "id": "a0dfad38",
   "metadata": {},
   "outputs": [],
   "source": [
    "# MULTI DIMENSIONAL ARRAY\n",
    "ar = np.array([23,45,765,87,5643]) # 1D array\n",
    "print(ar.ndim)\n",
    "ar = np.array([\n",
    "    [1,2,3],\n",
    "    [4,5,6],\n",
    "    [7,8,9]\n",
    "])\n",
    "print(ar.ndim)\n",
    "ar = np.array([\n",
    "    [\n",
    "        [1,2,3],\n",
    "        [3,4,5]\n",
    "    ],\n",
    "    [\n",
    "        [54,34,12],\n",
    "        [7,8,9]\n",
    "    ]\n",
    "])\n",
    "print(ar.ndim)"
   ]
  },
  {
   "cell_type": "code",
   "execution_count": null,
   "id": "6f1f47a2",
   "metadata": {},
   "outputs": [],
   "source": [
    "ar = np.array([\n",
    "    [[1,2,3],\n",
    "    [9,4,6],],\n",
    "    \n",
    "    [[1,2,3],\n",
    "    [9,4,6],],\n",
    "    [[1,2,3],\n",
    "    [9,4,6],]\n",
    "])\n",
    "print(ar.ndim)\n",
    "ar.shape\n"
   ]
  },
  {
   "cell_type": "code",
   "execution_count": null,
   "id": "610dbe3f",
   "metadata": {},
   "outputs": [],
   "source": [
    "ar.itemsize"
   ]
  },
  {
   "cell_type": "code",
   "execution_count": null,
   "id": "cb8b43c4",
   "metadata": {},
   "outputs": [],
   "source": [
    "ar = np.array([\n",
    "    [1,2,3],\n",
    "    [4,5,6]\n",
    "    ])\n",
    "ar.ndim\n",
    "\n",
    "ar * [1,2,3]\n"
   ]
  },
  {
   "cell_type": "code",
   "execution_count": null,
   "id": "496fab27",
   "metadata": {},
   "outputs": [],
   "source": [
    "a = np.array([[1,2],[3,4]])\n",
    "a.ndim"
   ]
  },
  {
   "cell_type": "code",
   "execution_count": null,
   "id": "1162e94b",
   "metadata": {},
   "outputs": [],
   "source": [
    "# axis 0 > row \n",
    "# asix 1 > columns\n",
    "\n",
    "ar  = np.array([[1,2,3,4,5],[6,7,8,9,10]])\n",
    "# ar[0][1]\n",
    "ar"
   ]
  },
  {
   "cell_type": "code",
   "execution_count": null,
   "id": "839aa34c",
   "metadata": {},
   "outputs": [],
   "source": [
    "# fetch row col from 2d array\n",
    "# print(a[0])\n",
    "# print(a[0][1])\n",
    "a[1,:]\n"
   ]
  },
  {
   "cell_type": "code",
   "execution_count": null,
   "id": "1c257879",
   "metadata": {},
   "outputs": [],
   "source": [
    "# Q) Extract all the border rows and columns from a 2-D array.\n",
    "# [[11 12 13 14]\n",
    "#  [21 22 23 24]\n",
    "#  [31 32 33 34]]\n",
    "ar = np.array([[11, 12, 13, 14],\n",
    "               [21, 22, 23, 24],\n",
    "               [31, 32, 33, 34]])\n",
    "\n",
    "ar[1,1:3]"
   ]
  },
  {
   "cell_type": "code",
   "execution_count": null,
   "id": "058bf8ff",
   "metadata": {},
   "outputs": [],
   "source": [
    "# The indexing and slicing of nD arrays are similar to those of 1D arrays.\n",
    "#  The only difference between the two is that you need to give the slicing and indexing instructions for each dimension separately. See example below:"
   ]
  },
  {
   "cell_type": "code",
   "execution_count": null,
   "id": "38072285",
   "metadata": {},
   "outputs": [],
   "source": [
    "ar[ar[:,0]>11,0]"
   ]
  },
  {
   "cell_type": "code",
   "execution_count": null,
   "metadata": {},
   "outputs": [],
   "source": []
  },
  {
   "cell_type": "code",
   "execution_count": null,
   "id": "10a2f11f",
   "metadata": {},
   "outputs": [],
   "source": [
    "ddnumpy.array([1,2,43])"
   ]
  },
  {
   "cell_type": "code",
   "execution_count": null,
   "id": "cb3bd467",
   "metadata": {},
   "outputs": [],
   "source": []
  }
 ],
 "metadata": {
  "kernelspec": {
   "display_name": "Python 3 (ipykernel)",
   "language": "python",
   "name": "python3"
  },
  "language_info": {
   "codemirror_mode": {
    "name": "ipython",
    "version": 3
   },
   "file_extension": ".py",
   "mimetype": "text/x-python",
   "name": "python",
   "nbconvert_exporter": "python",
   "pygments_lexer": "ipython3",
   "version": "3.9.7"
  }
 },
 "nbformat": 4,
 "nbformat_minor": 5
}
