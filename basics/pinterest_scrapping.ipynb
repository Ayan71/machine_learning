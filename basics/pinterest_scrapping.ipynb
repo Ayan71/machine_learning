{
 "cells": [
  {
   "cell_type": "code",
   "execution_count": null,
   "metadata": {},
   "outputs": [],
   "source": [
    "import html5lib \n",
    "from bs4 import BeautifulSoup \n",
    "import requests\n",
    "import json \n",
    "import asyncio "
   ]
  },
  {
   "cell_type": "code",
   "execution_count": null,
   "metadata": {},
   "outputs": [],
   "source": [
    "response = requests.get('https://newsroom.pinterest.com/en')\n",
    "response.content"
   ]
  },
  {
   "cell_type": "code",
   "execution_count": null,
   "metadata": {},
   "outputs": [],
   "source": [
    "soup = BeautifulSoup(response.content, 'html5lib')\n"
   ]
  },
  {
   "cell_type": "code",
   "execution_count": null,
   "metadata": {},
   "outputs": [],
   "source": [
    "table = soup.find_all('figure',attrs={'class':'image-tile image-tile--image-tile-square'})"
   ]
  },
  {
   "cell_type": "code",
   "execution_count": null,
   "metadata": {},
   "outputs": [],
   "source": [
    "date = []\n",
    "img_cap = []\n",
    "for item in table:\n",
    "    date.append(item.time.string)\n",
    "    img_cap.append(item.span.string)"
   ]
  },
  {
   "cell_type": "code",
   "execution_count": null,
   "metadata": {},
   "outputs": [],
   "source": [
    "import pandas as pd \n",
    "df = pd.DataFrame({\n",
    "    'date' : date ,\n",
    "    'caption':img_cap\n",
    "})"
   ]
  },
  {
   "cell_type": "code",
   "execution_count": null,
   "metadata": {},
   "outputs": [],
   "source": [
    "async def requestData():\n",
    "    f = df\n",
    "\n",
    "    for i in range(100):\n",
    "        date = []\n",
    "        img_cap = []\n",
    "        api_df = pd.DataFrame({\n",
    "            'date': date,\n",
    "            'caption': img_cap\n",
    "        })\n",
    "        res1 = requests.post('https://newsroom.pinterest.com/en/views/ajax?_wrapper_format=drupal_ajax',\n",
    "                             data={\n",
    "                                 'view_name': 'posts',\n",
    "                                 'view_display_id': 'views_posts_homepage_latest_news',\n",
    "                                 'view_args': 'all',\n",
    "                                 'view_path': '/node/4031',\n",
    "\n",
    "                                 'view_dom_id': 'd4f803539419d356b71fa91b7b6be69147a62270963f05e833611b0a3ed20609',\n",
    "                                 'pager_element': 0,\n",
    "                                 'page': i,\n",
    "                                 '_drupal_ajax': 1,\n",
    "                                 'ajax_page_state[theme]': 'pin_base',\n",
    "\n",
    "                                 'ajax_page_state[libraries]': ' codesnippet/codesnippet.highlightjs,codesnippet/codesnippet.style.googlecode,footnotes/footnotes,google_analytics/google_analytics,js_sha/js_sha.sha,paragraphs/drupal.paragraphs.unpublished,pin_base/core,pin_captcha/pin_captcha.recaptcha_invisible,pin_fields/pincolorfield,pin_google_analytics/google_analytics_script,pin_newsroom_views_posts/pin_newsroom_views_posts.enable,pin_pinterest_client/client_identification,spamspan/obfuscate,system/base,views/views.ajax,views/views.module'\n",
    "                             }\n",
    "                             )\n",
    "        lst = json.loads(res1.content)\n",
    "        soup = BeautifulSoup(lst[2]['data'], 'html5lib')\n",
    "        table = soup.find_all(\n",
    "            'figure', attrs={'class': 'image-tile image-tile--image-tile-square'})\n",
    "      \n",
    "\n",
    "        for item in table:\n",
    "            date.append(item.time.string)\n",
    "            img_cap.append(item.span.string)\n",
    "\n",
    "        f = pd.concat([f, api_df])\n",
    "\n",
    "    return f\n"
   ]
  },
  {
   "cell_type": "code",
   "execution_count": null,
   "metadata": {},
   "outputs": [],
   "source": []
  },
  {
   "cell_type": "code",
   "execution_count": null,
   "metadata": {},
   "outputs": [],
   "source": [
    "r = await requestData()\n",
    "r"
   ]
  },
  {
   "cell_type": "code",
   "execution_count": null,
   "metadata": {},
   "outputs": [],
   "source": [
    "r.shape"
   ]
  },
  {
   "cell_type": "code",
   "execution_count": null,
   "metadata": {},
   "outputs": [],
   "source": []
  }
 ],
 "metadata": {
  "interpreter": {
   "hash": "a5055cf8dbec482c608d12f1cf9fb091b77541effa35f176a3529affcaaa155d"
  },
  "kernelspec": {
   "display_name": "Python 3.9.7 ('base')",
   "language": "python",
   "name": "python3"
  },
  "language_info": {
   "codemirror_mode": {
    "name": "ipython",
    "version": 3
   },
   "file_extension": ".py",
   "mimetype": "text/x-python",
   "name": "python",
   "nbconvert_exporter": "python",
   "pygments_lexer": "ipython3",
   "version": "3.9.7"
  },
  "orig_nbformat": 4
 },
 "nbformat": 4,
 "nbformat_minor": 2
}
