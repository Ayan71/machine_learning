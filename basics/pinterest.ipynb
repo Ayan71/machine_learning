{
 "cells": [
  {
   "cell_type": "code",
   "execution_count": null,
   "metadata": {},
   "outputs": [],
   "source": [
    "import html5lib\n",
    "import requests\n",
    "from bs4 import BeautifulSoup\n",
    "import pandas as pd "
   ]
  },
  {
   "cell_type": "code",
   "execution_count": null,
   "metadata": {},
   "outputs": [],
   "source": [
    "df = pd.DataFrame()"
   ]
  },
  {
   "cell_type": "code",
   "execution_count": null,
   "metadata": {},
   "outputs": [],
   "source": [
    "news = requests.get('https://newsroom.pinterest.com/en/news')"
   ]
  },
  {
   "cell_type": "code",
   "execution_count": null,
   "metadata": {},
   "outputs": [],
   "source": [
    "soup = BeautifulSoup(news.content,'html5lib')"
   ]
  },
  {
   "cell_type": "code",
   "execution_count": null,
   "metadata": {},
   "outputs": [],
   "source": [
    "t = soup.find_all('figure',attrs={'class':'image-tile image-tile--image-tile-square'})\n"
   ]
  },
  {
   "cell_type": "code",
   "execution_count": null,
   "metadata": {},
   "outputs": [],
   "source": [
    "type(t)"
   ]
  },
  {
   "cell_type": "code",
   "execution_count": null,
   "metadata": {},
   "outputs": [],
   "source": [
    "img_tag = []\n",
    "dt = []\n",
    "content = []\n",
    "for items in t:\n",
    "    img_tag.append(items.find('img')['alt'])\n",
    "    dt.append(items.find('figcaption').find('time'))\n",
    "    content.append(items.find('figcaption').find('span').string)\n",
    "\n",
    "df['image_tag'] = img_tag\n",
    "df['time'] = dt\n",
    "df['content'] = content"
   ]
  },
  {
   "cell_type": "code",
   "execution_count": null,
   "metadata": {},
   "outputs": [],
   "source": [
    "res = requests.post('https://newsroom.pinterest.com/en/views/ajax?_wrapper_format=drupal_ajax',\n",
    "data={\n",
    "    'view_name': 'posts',\n",
    "'view_display_id': 'views_posts_homepage_latest_news',\n",
    "'view_args': 'all',\n",
    "'view_path': '/node/4031',\n",
    "\n",
    "'view_dom_id': 'd4f803539419d356b71fa91b7b6be69147a62270963f05e833611b0a3ed20609',\n",
    "'pager_element': 0,\n",
    "'page': 3,\n",
    "'_drupal_ajax': 1,\n",
    "'ajax_page_state[theme]': 'pin_base',\n",
    "\n",
    "'ajax_page_state[libraries]':' codesnippet/codesnippet.highlightjs,codesnippet/codesnippet.style.googlecode,footnotes/footnotes,google_analytics/google_analytics,js_sha/js_sha.sha,paragraphs/drupal.paragraphs.unpublished,pin_base/core,pin_captcha/pin_captcha.recaptcha_invisible,pin_fields/pincolorfield,pin_google_analytics/google_analytics_script,pin_newsroom_views_posts/pin_newsroom_views_posts.enable,pin_pinterest_client/client_identification,spamspan/obfuscate,system/base,views/views.ajax,views/views.module'\n",
    "}\n",
    ")"
   ]
  },
  {
   "cell_type": "code",
   "execution_count": null,
   "metadata": {},
   "outputs": [],
   "source": [
    "soup = BeautifulSoup(res.content,'html5lib')"
   ]
  },
  {
   "cell_type": "code",
   "execution_count": null,
   "metadata": {},
   "outputs": [],
   "source": [
    "t = soup.find('body')"
   ]
  },
  {
   "cell_type": "code",
   "execution_count": null,
   "metadata": {},
   "outputs": [],
   "source": [
    "import json\n",
    "s = list(t.children)[0]\n",
    "rn = json.loads(s)\n",
    "rn"
   ]
  },
  {
   "cell_type": "code",
   "execution_count": null,
   "metadata": {},
   "outputs": [],
   "source": [
    "soup = BeautifulSoup(rn[2]['data'],'html5lib')"
   ]
  },
  {
   "cell_type": "code",
   "execution_count": null,
   "metadata": {},
   "outputs": [],
   "source": [
    "soup.contents"
   ]
  },
  {
   "cell_type": "code",
   "execution_count": null,
   "metadata": {},
   "outputs": [],
   "source": []
  },
  {
   "cell_type": "code",
   "execution_count": null,
   "metadata": {},
   "outputs": [],
   "source": [
    "t = soup.find_all('figure',attrs={'class':'image-tile image-tile--image-tile-square'})\n"
   ]
  },
  {
   "cell_type": "code",
   "execution_count": null,
   "metadata": {},
   "outputs": [],
   "source": [
    "type(t)"
   ]
  },
  {
   "cell_type": "code",
   "execution_count": null,
   "metadata": {},
   "outputs": [],
   "source": [
    "t"
   ]
  },
  {
   "cell_type": "code",
   "execution_count": null,
   "metadata": {},
   "outputs": [],
   "source": [
    "img_tag = []\n",
    "dt = []\n",
    "content = []\n",
    "for items in t:\n",
    "    img_tag.append(items.find('img')['alt'])\n",
    "    dt.append(items.find('figcaption').find('time'))\n",
    "    content.append(items.find('figcaption').find('span').string)\n"
   ]
  },
  {
   "cell_type": "code",
   "execution_count": null,
   "metadata": {},
   "outputs": [],
   "source": [
    "img_tag"
   ]
  },
  {
   "cell_type": "code",
   "execution_count": null,
   "metadata": {},
   "outputs": [],
   "source": [
    "\n",
    "content"
   ]
  },
  {
   "cell_type": "code",
   "execution_count": null,
   "metadata": {},
   "outputs": [],
   "source": []
  }
 ],
 "metadata": {
  "interpreter": {
   "hash": "22f6b988c804dbe7f5299c324c699b3fe3ab9f3e2c9d2f5abcd1a724d93c420b"
  },
  "kernelspec": {
   "display_name": "Python 3.9.9 64-bit",
   "language": "python",
   "name": "python3"
  },
  "language_info": {
   "codemirror_mode": {
    "name": "ipython",
    "version": 3
   },
   "file_extension": ".py",
   "mimetype": "text/x-python",
   "name": "python",
   "nbconvert_exporter": "python",
   "pygments_lexer": "ipython3",
   "version": "3.9.7"
  },
  "orig_nbformat": 4
 },
 "nbformat": 4,
 "nbformat_minor": 2
}
