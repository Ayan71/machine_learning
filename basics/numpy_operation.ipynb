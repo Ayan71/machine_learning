{
 "cells": [
  {
   "cell_type": "code",
   "execution_count": null,
   "metadata": {},
   "outputs": [],
   "source": [
    "import numpy as np\n"
   ]
  },
  {
   "cell_type": "code",
   "execution_count": null,
   "metadata": {},
   "outputs": [],
   "source": [
    "ar1 = np.array([10,20,30,40,50])\n",
    "print(ar1)\n",
    "ar2 = np.arange(5)\n",
    "print(ar2)"
   ]
  },
  {
   "cell_type": "code",
   "execution_count": null,
   "metadata": {},
   "outputs": [],
   "source": [
    "ar = ar1 - ar2\n",
    "ar"
   ]
  },
  {
   "cell_type": "code",
   "execution_count": null,
   "metadata": {},
   "outputs": [],
   "source": [
    "# Takes range and total values to be in between range\n",
    "ar = np.linspace(1,10,10)\n",
    "ar"
   ]
  },
  {
   "cell_type": "code",
   "execution_count": null,
   "metadata": {},
   "outputs": [],
   "source": [
    "# creat array of zeroes for the given shape\n",
    "np.zeros((2,3))"
   ]
  },
  {
   "cell_type": "code",
   "execution_count": null,
   "metadata": {},
   "outputs": [],
   "source": [
    "# create array of ones for the given shape\n",
    "np.ones((6,3,2))"
   ]
  },
  {
   "cell_type": "code",
   "execution_count": null,
   "metadata": {},
   "outputs": [],
   "source": [
    "# this functino fill the given value within the given shape\n",
    "np.full((3,4),4)"
   ]
  },
  {
   "cell_type": "code",
   "execution_count": 56,
   "metadata": {},
   "outputs": [
    {
     "data": {
      "text/plain": [
       "array([[1, 2, 6, 5],\n",
       "       [3, 4, 7, 8]])"
      ]
     },
     "execution_count": 56,
     "metadata": {},
     "output_type": "execute_result"
    }
   ],
   "source": [
    "# STACKING ARRAYS\n",
    "# It is done using np.hstack() for horizontal stacking (number of row should be same)\n",
    "# np.vstack() for vertical stacking (number of columns should be same) \n",
    "lst1 = [[1,2],[3,4]]\n",
    "lst2 = [[6,5],[7,8]]\n",
    "ar1 = np.array(lst1)\n",
    "ar2 = np.array(lst2)\n",
    "np.hstack((ar1,ar2))"
   ]
  },
  {
   "cell_type": "code",
   "execution_count": 61,
   "metadata": {},
   "outputs": [
    {
     "data": {
      "text/plain": [
       "array([[0, 1, 2],\n",
       "       [3, 4, 5]])"
      ]
     },
     "execution_count": 61,
     "metadata": {},
     "output_type": "execute_result"
    }
   ],
   "source": [
    "# reshape function is used to reshape the given array\n",
    "np.arange(6).reshape(2,3)"
   ]
  },
  {
   "cell_type": "code",
   "execution_count": 62,
   "metadata": {},
   "outputs": [],
   "source": [
    "# Q >> np.reshape(ar, -1) What will be the ouput ? "
   ]
  },
  {
   "cell_type": "code",
   "execution_count": 71,
   "metadata": {},
   "outputs": [],
   "source": [
    "# ar = np.array([[1, 2, 3, 4, 5],\n",
    "#       [6, 7, 8, 9, 10],\n",
    "#       [11, 12, 13, 14, 15],\n",
    "#       [16, 17, 18, 19, 20]]\n",
    "# )\n",
    "\n",
    "# Reshape the above array in \n",
    "\n",
    "# array([[ 1,  3],\n",
    "#        [ 5,  7],\n",
    "#        [ 9, 11],\n",
    "#        [13, 15],\n",
    "#        [17, 19]])"
   ]
  },
  {
   "cell_type": "code",
   "execution_count": 76,
   "metadata": {},
   "outputs": [],
   "source": [
    "# QUES\n",
    "# ar  = np.array([[1, 5],\n",
    "#  [3, 7],\n",
    "#  [4, 9]])\n",
    "\n",
    "# np.reshape(p, (1, -1)) >> what will be the output\n"
   ]
  },
  {
   "cell_type": "code",
   "execution_count": null,
   "metadata": {},
   "outputs": [],
   "source": []
  }
 ],
 "metadata": {
  "interpreter": {
   "hash": "a5055cf8dbec482c608d12f1cf9fb091b77541effa35f176a3529affcaaa155d"
  },
  "kernelspec": {
   "display_name": "Python 3.9.7 ('base')",
   "language": "python",
   "name": "python3"
  },
  "language_info": {
   "codemirror_mode": {
    "name": "ipython",
    "version": 3
   },
   "file_extension": ".py",
   "mimetype": "text/x-python",
   "name": "python",
   "nbconvert_exporter": "python",
   "pygments_lexer": "ipython3",
   "version": "3.9.7"
  },
  "orig_nbformat": 4
 },
 "nbformat": 4,
 "nbformat_minor": 2
}
