{
 "cells": [
  {
   "cell_type": "code",
   "execution_count": null,
   "metadata": {},
   "outputs": [],
   "source": [
    "import numpy as np\n"
   ]
  },
  {
   "cell_type": "code",
   "execution_count": null,
   "metadata": {},
   "outputs": [],
   "source": [
    "ar2 = np.arange(5,50,2)\n",
    "print(ar2)"
   ]
  },
  {
   "cell_type": "code",
   "execution_count": null,
   "metadata": {},
   "outputs": [],
   "source": [
    "# create nD array of given shape with values 1.\n",
    "np.ones((2,3,3) ,dtype= int)\n",
    "# create nD array of given shape with values 0.\n",
    "np.zeros((2,3), dtype= int)"
   ]
  },
  {
   "cell_type": "code",
   "execution_count": null,
   "metadata": {},
   "outputs": [],
   "source": [
    "# Takes range and total values to be in between range\n",
    "ar = np.linspace(1,10,1000,dtype=int)\n",
    "ar"
   ]
  },
  {
   "cell_type": "code",
   "execution_count": null,
   "metadata": {},
   "outputs": [],
   "source": [
    "# this functino fill the given value within the given shape\n",
    "np.full( (3,2,3,4) , 's')"
   ]
  },
  {
   "cell_type": "code",
   "execution_count": null,
   "metadata": {},
   "outputs": [],
   "source": [
    "# gives random values for each runs \n",
    "# param: start,end,cnt\n",
    "np.random.randint(1,10,2)"
   ]
  },
  {
   "cell_type": "code",
   "execution_count": null,
   "metadata": {},
   "outputs": [],
   "source": [
    "# this is a 3d array\n",
    "ar = np.array([\n",
    "    [[1,2],\n",
    "    [3,4]],\n",
    "    \n",
    "    [[5,6],\n",
    "    [7,8]]\n",
    "\n",
    "])\n",
    "\n",
    "ar = np.tile(ar,2)\n",
    "ar"
   ]
  },
  {
   "cell_type": "code",
   "execution_count": null,
   "metadata": {},
   "outputs": [],
   "source": [
    "# eye function return Identity matrices for the given row,col\n",
    "np.eye(4,4,-1)"
   ]
  },
  {
   "cell_type": "code",
   "execution_count": null,
   "metadata": {},
   "outputs": [],
   "source": [
    "ar = np.ones((4,6))\n",
    "ar.reshape(-1,6)"
   ]
  },
  {
   "cell_type": "code",
   "execution_count": 72,
   "metadata": {},
   "outputs": [
    {
     "data": {
      "text/plain": [
       "array([[ 0,  1,  2,  3,  4,  5],\n",
       "       [ 6,  7,  8,  9, 10, 11],\n",
       "       [12, 13, 14, 15, 16, 17],\n",
       "       [18, 19, 20, 21, 22, 23],\n",
       "       [24, 25, 26, 27, 28, 29]])"
      ]
     },
     "execution_count": 72,
     "metadata": {},
     "output_type": "execute_result"
    }
   ],
   "source": [
    "ar = np.arange(30).reshape(5,6)\n",
    "# ar[ :,5 ]\n",
    "# ar[4,:]\n",
    "ar[2,3:]\n",
    "ar"
   ]
  },
  {
   "cell_type": "code",
   "execution_count": 77,
   "metadata": {},
   "outputs": [
    {
     "name": "stdout",
     "output_type": "stream",
     "text": [
      "0\n",
      "7\n",
      "14\n",
      "21\n",
      "28\n"
     ]
    }
   ],
   "source": [
    "# Code to print the diagonal from (0,0)\n",
    "i = 0 \n",
    "j = 0\n",
    "while i<=4 and j<=5:\n",
    "    print(ar[i][j])\n",
    "    i+=1\n",
    "    j+=1\n",
    "\n"
   ]
  },
  {
   "cell_type": "code",
   "execution_count": 84,
   "metadata": {},
   "outputs": [
    {
     "data": {
      "text/plain": [
       "array([[1., 1., 1., 1.],\n",
       "       [1., 1., 1., 1.],\n",
       "       [0., 0., 0., 0.]])"
      ]
     },
     "execution_count": 84,
     "metadata": {},
     "output_type": "execute_result"
    }
   ],
   "source": [
    "ar1 = np.ones((2,4))\n",
    "ar2 = np.zeros((1,4))\n",
    "# vstack is used for stacking the two or more then two arrays vertically with \n",
    "# condition ie columns of all the array should be same \n",
    "np.vstack([ar1,ar2])\n",
    "# hstack is used for stacking the two or more then two arrays horizontally with \n",
    "# condition ie rows of all the array should be same \n",
    "np.hstack([ar1,ar2])"
   ]
  },
  {
   "cell_type": "code",
   "execution_count": 86,
   "metadata": {},
   "outputs": [],
   "source": [
    "import time "
   ]
  },
  {
   "cell_type": "code",
   "execution_count": 91,
   "metadata": {},
   "outputs": [
    {
     "name": "stdout",
     "output_type": "stream",
     "text": [
      "17.310813188552856\n"
     ]
    }
   ],
   "source": [
    "# FOR PYTHON\n",
    "lst1 = [x for x in range(1,10**8)]\n",
    "lst2 = [x for x in range(1,10**8)]\n",
    "t0 = time.time()\n",
    "res = [list(map(lambda x,y:x*y,lst1,lst2))]\n",
    "t1=time.time()\n",
    "print(t1-t0)"
   ]
  },
  {
   "cell_type": "code",
   "execution_count": 92,
   "metadata": {},
   "outputs": [
    {
     "name": "stdout",
     "output_type": "stream",
     "text": [
      "0.1431288719177246\n"
     ]
    }
   ],
   "source": [
    "ar1 = np.array(lst1)\n",
    "ar2 = np.array(lst2)\n",
    "t0 = time.time()\n",
    "ar1 * ar2\n",
    "t1 = time.time()\n",
    "print(t1-t0)"
   ]
  }
 ],
 "metadata": {
  "interpreter": {
   "hash": "a5055cf8dbec482c608d12f1cf9fb091b77541effa35f176a3529affcaaa155d"
  },
  "kernelspec": {
   "display_name": "Python 3.9.7 ('base')",
   "language": "python",
   "name": "python3"
  },
  "language_info": {
   "codemirror_mode": {
    "name": "ipython",
    "version": 3
   },
   "file_extension": ".py",
   "mimetype": "text/x-python",
   "name": "python",
   "nbconvert_exporter": "python",
   "pygments_lexer": "ipython3",
   "version": "3.9.7"
  },
  "orig_nbformat": 4
 },
 "nbformat": 4,
 "nbformat_minor": 2
}
