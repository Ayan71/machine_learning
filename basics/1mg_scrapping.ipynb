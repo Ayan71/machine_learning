{
 "cells": [
  {
   "cell_type": "code",
   "execution_count": null,
   "metadata": {},
   "outputs": [],
   "source": [
    "import pandas as pd \n",
    "import numpy as np \n",
    "import requests \n",
    "import html5lib \n",
    "import json \n",
    "from bs4 import BeautifulSoup\n"
   ]
  },
  {
   "cell_type": "code",
   "execution_count": null,
   "metadata": {},
   "outputs": [],
   "source": [
    "dis_title=[]\n",
    "dis_desc = []\n",
    "dis_link = []\n",
    "\n",
    "async def getDisease():\n",
    "    for asc in range(97,123):\n",
    "        res = requests.get('https://www.1mg.com/all-diseases?label={0}'.format(chr(asc)))\n",
    "        soup = BeautifulSoup(res.content,'html5lib') \n",
    "        disease_list = soup.find_all('a',attrs = {'class':'Card__productCard__2MScM marginTop-4 Card__text__2W5M-'})\n",
    "        for item in disease_list:\n",
    "            dis_desc.append(item.find('p',attrs={'class':'Card__productDescription__-TaIB'}).string)\n",
    "            dis_link.append('https://www.1mg.com'+ item.attrs['href'])\n",
    "            dis_title.append(item.find('p').string)\n",
    "\n",
    "await getDisease()"
   ]
  },
  {
   "cell_type": "code",
   "execution_count": null,
   "metadata": {},
   "outputs": [],
   "source": [
    "df = pd.DataFrame({\n",
    "    'title':dis_title,\n",
    "    'description':dis_desc,\n",
    "    'link':dis_link\n",
    "})\n",
    "df.shape "
   ]
  },
  {
   "cell_type": "code",
   "execution_count": null,
   "metadata": {},
   "outputs": [],
   "source": [
    "df.head()"
   ]
  },
  {
   "cell_type": "code",
   "execution_count": null,
   "metadata": {},
   "outputs": [],
   "source": [
    "# soup = BeautifulSoup(res.content,'html5lib')\n",
    "# async def getDiseaseInfo():\n",
    "#     for link in df['link']:\n",
    "#         res = requests.get(link)\n",
    "#         soup = BeautifulSoup(res.content,'html5lib')\n",
    "#         print(soup.contents)\n",
    "#         break\n",
    "# await getDiseaseInfo()"
   ]
  },
  {
   "cell_type": "code",
   "execution_count": 144,
   "metadata": {},
   "outputs": [
    {
     "data": {
      "text/plain": [
       "87430"
      ]
     },
     "execution_count": 144,
     "metadata": {},
     "output_type": "execute_result"
    }
   ],
   "source": [
    "res = requests.get('https://www.1mg.com/diseases/acidity-42').text\n",
    "# soup = BeautifulSoup(res.content,'html5lib')\n",
    "# # synonms = soup.find('div',attrs={'class':'marginTop-16 bodyRegular textSecondary'})\n",
    "\n",
    "res.find('dynamic')"
   ]
  },
  {
   "cell_type": "code",
   "execution_count": 137,
   "metadata": {},
   "outputs": [
    {
     "data": {
      "text/plain": [
       "[]"
      ]
     },
     "execution_count": 137,
     "metadata": {},
     "output_type": "execute_result"
    }
   ],
   "source": [
    "soup.contents[1].find_all('div',attrs={'class':\"flexColumn col-8 style__textBreak___3IcLh\"})"
   ]
  },
  {
   "cell_type": "code",
   "execution_count": 134,
   "metadata": {},
   "outputs": [
    {
     "data": {
      "text/plain": [
       "bs4.element.Tag"
      ]
     },
     "execution_count": 134,
     "metadata": {},
     "output_type": "execute_result"
    }
   ],
   "source": [
    "type(soup.contents[1])"
   ]
  },
  {
   "cell_type": "code",
   "execution_count": null,
   "metadata": {},
   "outputs": [],
   "source": []
  }
 ],
 "metadata": {
  "interpreter": {
   "hash": "a5055cf8dbec482c608d12f1cf9fb091b77541effa35f176a3529affcaaa155d"
  },
  "kernelspec": {
   "display_name": "Python 3.9.7 ('base')",
   "language": "python",
   "name": "python3"
  },
  "language_info": {
   "codemirror_mode": {
    "name": "ipython",
    "version": 3
   },
   "file_extension": ".py",
   "mimetype": "text/x-python",
   "name": "python",
   "nbconvert_exporter": "python",
   "pygments_lexer": "ipython3",
   "version": "3.9.7"
  },
  "orig_nbformat": 4
 },
 "nbformat": 4,
 "nbformat_minor": 2
}
